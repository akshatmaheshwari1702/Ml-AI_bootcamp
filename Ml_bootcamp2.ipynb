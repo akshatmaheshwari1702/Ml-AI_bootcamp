{
  "nbformat": 4,
  "nbformat_minor": 0,
  "metadata": {
    "colab": {
      "name": "Ml_bootcamp2.ipynb",
      "provenance": [],
      "authorship_tag": "ABX9TyNoj3CVOB53m5IMDl0UQh0W",
      "include_colab_link": true
    },
    "kernelspec": {
      "name": "python3",
      "display_name": "Python 3"
    }
  },
  "cells": [
    {
      "cell_type": "markdown",
      "metadata": {
        "id": "view-in-github",
        "colab_type": "text"
      },
      "source": [
        "<a href=\"https://colab.research.google.com/github/akshatmaheshwari1702/123/blob/master/Ml_bootcamp2.ipynb\" target=\"_parent\"><img src=\"https://colab.research.google.com/assets/colab-badge.svg\" alt=\"Open In Colab\"/></a>"
      ]
    },
    {
      "cell_type": "markdown",
      "metadata": {
        "id": "JN3H-NHSpA_O"
      },
      "source": [
        "## **Introduction to NumPy:**\r\n",
        "```NumPy``` stands for *Numerical Python* and it's a fundamental package for scientific computing in Python. NumPy provides Python with an extensive math library capable of performing numerical computations effectively and efficiently. These lessons are intended as a basic overview of NumPy and introduces some of its most important features.\r\n",
        "\r\n"
      ]
    },
    {
      "cell_type": "markdown",
      "metadata": {
        "id": "lg9yLZUgpbEz"
      },
      "source": [
        "## **Why Numpy:**\r\n",
        "You may be wondering why people use NumPy - after all, Python can handle lists, as you learned in the Intro to Python lessons.\r\n",
        "\r\n",
        "Even though Python lists are great on their own, NumPy has a number of key features that give it great advantages over Python lists. One such feature is speed. When performing operations on large arrays NumPy can often perform several orders of magnitude faster than Python lists. This speed comes from the nature of NumPy arrays being memory-efficient and from optimized algorithms used by NumPy for doing arithmetic, statistical, and linear algebra operations."
      ]
    },
    {
      "cell_type": "code",
      "metadata": {
        "id": "WxdZI3_No4Is"
      },
      "source": [
        "import time\r\n",
        "import numpy as np"
      ],
      "execution_count": 1,
      "outputs": []
    },
    {
      "cell_type": "code",
      "metadata": {
        "id": "neCnMozkpp0R"
      },
      "source": [
        "x = np.random.rand(1000000000)"
      ],
      "execution_count": 2,
      "outputs": []
    },
    {
      "cell_type": "code",
      "metadata": {
        "colab": {
          "base_uri": "https://localhost:8080/"
        },
        "id": "tN_J8B5osfkx",
        "outputId": "fa57a2c2-1859-4e07-d320-e421e2fa91e6"
      },
      "source": [
        "start = time.time()\r\n",
        "mean = sum(x)/len(x)\r\n",
        "print(time.time() - start)"
      ],
      "execution_count": 4,
      "outputs": [
        {
          "output_type": "stream",
          "text": [
            "159.81591081619263\n"
          ],
          "name": "stdout"
        }
      ]
    },
    {
      "cell_type": "code",
      "metadata": {
        "colab": {
          "base_uri": "https://localhost:8080/"
        },
        "id": "rhi0v3Yet6aX",
        "outputId": "d10d3dd5-0798-466e-ef9b-0007ec3b1644"
      },
      "source": [
        "start = time.time()\r\n",
        "mean_np = np.mean(x)\r\n",
        "print(time.time() - start)"
      ],
      "execution_count": 8,
      "outputs": [
        {
          "output_type": "stream",
          "text": [
            "0.83160400390625\n"
          ],
          "name": "stdout"
        }
      ]
    },
    {
      "cell_type": "markdown",
      "metadata": {
        "id": "wLYcZ8yCx3IP"
      },
      "source": [
        "## **Creating NumPy ndarrays:**\r\n",
        "At the core of NumPy is the ndarray, where nd stands for n-dimensional. An ndarray is a multidimensional array of elements all of the same type. In other words, an ndarray is a grid that can take on many shapes and can hold either numbers or strings. In many Machine Learning problems you will often find yourself using ndarrays in many different ways. For instance, you might use an ndarray to hold the pixel values of an image that will be fed into a Neural Network for image classification."
      ]
    },
    {
      "cell_type": "markdown",
      "metadata": {
        "id": "nv4WJM_6x7fd"
      },
      "source": [
        "There are several ways to create ndarrays in NumPy. In the following lessons we will see two ways to create ndarrays:\r\n",
        "\r\n",
        "1. Using regular Python lists\r\n",
        "\r\n",
        "2. Using built-in NumPy functions"
      ]
    },
    {
      "cell_type": "markdown",
      "metadata": {
        "id": "1uJuoqrnx_fG"
      },
      "source": [
        "In this section, we will create ndarrays by providing Python lists to the NumPy np.array() function, it is just a function that returns an ndarray. We should note that for the purposes of clarity, the examples throughout these lessons will use small and simple ndarrays. Let's start by creating 1-Dimensional (1D) ndarrays."
      ]
    },
    {
      "cell_type": "code",
      "metadata": {
        "colab": {
          "base_uri": "https://localhost:8080/"
        },
        "id": "kGwyol4lusuX",
        "outputId": "c1c79eff-a0de-41ed-c334-f7a383fe0a68"
      },
      "source": [
        "# We import NumPy into Python\r\n",
        "import numpy as np\r\n",
        "\r\n",
        "# We create a 1D ndarray that contains only integers\r\n",
        "x = np.array([1, 2, 3, 4, 5])\r\n",
        "\r\n",
        "# Let's print the ndarray we just created using the print() command\r\n",
        "print('x = ', x)"
      ],
      "execution_count": 9,
      "outputs": [
        {
          "output_type": "stream",
          "text": [
            "x =  [1 2 3 4 5]\n"
          ],
          "name": "stdout"
        }
      ]
    },
    {
      "cell_type": "markdown",
      "metadata": {
        "id": "KVivpmvG1Y6P"
      },
      "source": [
        "## **Shape of an ndarray:**\r\n",
        "Another important property of arrays is their shape. The shape of an array is the size along each of its dimensions. As you will see, NumPy ndarrays have attributes that allows us to get information about them in a very intuitive way. For example, the shape of an ndarray can be obtained using the .shape attribute. The shape attribute returns a tuple of N positive integers that specify the sizes of each dimension."
      ]
    },
    {
      "cell_type": "code",
      "metadata": {
        "colab": {
          "base_uri": "https://localhost:8080/"
        },
        "id": "kKTX6GCC0IH-",
        "outputId": "e902f1f9-ca6d-4e42-fe91-e9efd6aa165f"
      },
      "source": [
        "# We create a 1D ndarray that contains only integers\r\n",
        "x = np.array([1, 2, 3, 4, 5])\r\n",
        "\r\n",
        "# We print x\r\n",
        "print()\r\n",
        "print('x = ', x)\r\n",
        "print()\r\n",
        "\r\n",
        "# We print information about x\r\n",
        "print('x has dimensions:', x.shape)\r\n",
        "print('x is an object of type:', type(x))\r\n",
        "print('The elements in x are of type:', x.dtype)"
      ],
      "execution_count": 10,
      "outputs": [
        {
          "output_type": "stream",
          "text": [
            "\n",
            "x =  [1 2 3 4 5]\n",
            "\n",
            "x has dimensions: (5,)\n",
            "x is an object of type: <class 'numpy.ndarray'>\n",
            "The elements in x are of type: int64\n"
          ],
          "name": "stdout"
        }
      ]
    },
    {
      "cell_type": "markdown",
      "metadata": {
        "id": "uRMphiJX1fF_"
      },
      "source": [
        "We can see that the shape attribute returns the tuple (5,) telling us that x is of rank 1 (i.e. x only has 1 dimension ) and it has 5 elements. The type() function tells us that x is indeed a NumPy ndarray. Finally, the .dtype attribute tells us that the elements of x are stored in memory as signed 64-bit integers. Another great advantage of NumPy is that it can handle more data-types than Python lists.[here](https://docs.scipy.org/doc/numpy-1.13.0/user/basics.types.html)"
      ]
    },
    {
      "cell_type": "markdown",
      "metadata": {
        "id": "8JpmbChM1h-w"
      },
      "source": [
        "As mentioned earlier, ndarrays can also hold strings. Let's see how we can create a rank 1 ndarray of strings in the same manner as before, by providing the np.array() function a Python list of strings."
      ]
    },
    {
      "cell_type": "code",
      "metadata": {
        "colab": {
          "base_uri": "https://localhost:8080/"
        },
        "id": "QQA823w-1i63",
        "outputId": "2779d021-0a70-45f6-a45f-6035b6ab5004"
      },
      "source": [
        "# We create a rank 1 ndarray that only contains strings\r\n",
        "x = np.array(['Hello', 'World'])\r\n",
        "\r\n",
        "# We print x\r\n",
        "print()\r\n",
        "print('x = ', x)\r\n",
        "print()\r\n",
        "\r\n",
        "# We print information about x\r\n",
        "print('x has dimensions:', x.shape)\r\n",
        "print('x is an object of type:', type(x))\r\n",
        "print('The elements in x are of type:', x.dtype)"
      ],
      "execution_count": 12,
      "outputs": [
        {
          "output_type": "stream",
          "text": [
            "\n",
            "x =  ['Hello' 'World']\n",
            "\n",
            "x has dimensions: (2,)\n",
            "x is an object of type: <class 'numpy.ndarray'>\n",
            "The elements in x are of type: <U5\n"
          ],
          "name": "stdout"
        }
      ]
    },
    {
      "cell_type": "markdown",
      "metadata": {
        "id": "2tHxkTnK1lVH"
      },
      "source": [
        "It is important to remember that one big difference between Python lists and ndarrays, is that unlike Python lists, all the elements of an ndarray must be of the same type. So, while we can create Python lists with both integers and strings, we can't mix types in ndarrays. If you provide the np.array() function with a Python list that has both integers and strings, NumPy will interpret all elements as strings. We can see this in the next example:"
      ]
    },
    {
      "cell_type": "code",
      "metadata": {
        "colab": {
          "base_uri": "https://localhost:8080/"
        },
        "id": "HM2RwZzA1z14",
        "outputId": "e6279f87-a0f5-4ec5-aa60-68e48c2a9944"
      },
      "source": [
        "# We create a rank 1 ndarray from a Python list that contains integers and strings\r\n",
        "x = np.array([1, 2, 'World'])\r\n",
        "\r\n",
        "# We print the ndarray\r\n",
        "print()\r\n",
        "print('x = ', x)\r\n",
        "print()\r\n",
        "\r\n",
        "# We print information about x\r\n",
        "print('x has dimensions:', x.shape)\r\n",
        "print('x is an object of type:', type(x))\r\n",
        "print('The elements in x are of type:', x.dtype)"
      ],
      "execution_count": 16,
      "outputs": [
        {
          "output_type": "stream",
          "text": [
            "\n",
            "x =  ['1' '2' 'World']\n",
            "\n",
            "x has dimensions: (3,)\n",
            "x is an object of type: <class 'numpy.ndarray'>\n",
            "The elements in x are of type: <U21\n"
          ],
          "name": "stdout"
        }
      ]
    },
    {
      "cell_type": "markdown",
      "metadata": {
        "id": "SRt9P72210qe"
      },
      "source": [
        "Let us now look at how we can create a rank 2 ndarray from a nested Python list."
      ]
    },
    {
      "cell_type": "code",
      "metadata": {
        "colab": {
          "base_uri": "https://localhost:8080/"
        },
        "id": "yTIHdIZL15We",
        "outputId": "5c10f6ce-bc8e-4f03-a0e3-61f180385c11"
      },
      "source": [
        "# We create a rank 2 ndarray that only contains integers\r\n",
        "Y = np.array([[1,2,3],[4,5,6],[7,8,9], [10,11,12]])\r\n",
        "\r\n",
        "# We print Y\r\n",
        "print()\r\n",
        "print('Y = \\n', Y)\r\n",
        "print()\r\n",
        "\r\n",
        "# We print information about Y\r\n",
        "print('Y has dimensions:', Y.shape)\r\n",
        "print('Y has a total of', Y.size, 'elements')\r\n",
        "print('Y is an object of type:', type(Y))\r\n",
        "print('The elements in Y are of type:', Y.dtype)"
      ],
      "execution_count": 17,
      "outputs": [
        {
          "output_type": "stream",
          "text": [
            "\n",
            "Y = \n",
            " [[ 1  2  3]\n",
            " [ 4  5  6]\n",
            " [ 7  8  9]\n",
            " [10 11 12]]\n",
            "\n",
            "Y has dimensions: (4, 3)\n",
            "Y has a total of 12 elements\n",
            "Y is an object of type: <class 'numpy.ndarray'>\n",
            "The elements in Y are of type: int64\n"
          ],
          "name": "stdout"
        }
      ]
    },
    {
      "cell_type": "markdown",
      "metadata": {
        "id": "0BGjNkZX13hY"
      },
      "source": [
        "Up to now, we have only created ndarrays with integers and strings. We saw that when we create an ndarray with only integers, NumPy will automatically assign the dtype int64 to its elements. Let's see what happens when we create ndarrays with floats and integers."
      ]
    },
    {
      "cell_type": "code",
      "metadata": {
        "colab": {
          "base_uri": "https://localhost:8080/"
        },
        "id": "CuS6uErC1-tP",
        "outputId": "fbe81bad-9e12-4803-9212-2e72d4f34fe0"
      },
      "source": [
        "# We create a rank 1 ndarray that contains integers\r\n",
        "x = np.array([1,2,3])\r\n",
        "\r\n",
        "# We create a rank 1 ndarray that contains floats\r\n",
        "y = np.array([1.0,2.0,3.0])\r\n",
        "\r\n",
        "# We create a rank 1 ndarray that contains integers and floats\r\n",
        "z = np.array([1, 2.5, 4])\r\n",
        "\r\n",
        "# We print the dtype of each ndarray\r\n",
        "print('The elements in x are of type:', x.dtype)\r\n",
        "print('The elements in y are of type:', y.dtype)\r\n",
        "print('The elements in z are of type:', z.dtype)"
      ],
      "execution_count": 15,
      "outputs": [
        {
          "output_type": "stream",
          "text": [
            "The elements in x are of type: int64\n",
            "The elements in y are of type: float64\n",
            "The elements in z are of type: float64\n"
          ],
          "name": "stdout"
        }
      ]
    },
    {
      "cell_type": "markdown",
      "metadata": {
        "id": "FWpNb39Z1_aH"
      },
      "source": [
        "Notice that when we create an ndarray with both floats and integers, as we did with the z ndarray above, NumPy assigns its elements a *float64* dtype as well. This is called upcasting. Since all the elements of an ndarray must be of the same type, in this case NumPy upcasts the integers in z to floats in order to avoid losing precision in numerical computations."
      ]
    },
    {
      "cell_type": "markdown",
      "metadata": {
        "id": "IDC-U0VU2VZA"
      },
      "source": [
        "Even though NumPy automatically selects the dtype of the ndarray, NumPy also allows you to specify the particular dtype you want to assign to the elements of the ndarray. You can specify the dtype when you create the ndarray using the keyword dtype in the np.array() function. Let's see an example:"
      ]
    },
    {
      "cell_type": "code",
      "metadata": {
        "colab": {
          "base_uri": "https://localhost:8080/"
        },
        "id": "oxpsPnIy2X_C",
        "outputId": "057fa4f1-66bb-4c64-e596-9ffb906524f1"
      },
      "source": [
        "# We create a rank 1 ndarray of floats but set the dtype to int64\r\n",
        "x = np.array([1.5, 2.2, 3.7, 4.0, 5.9], dtype = np.int64)\r\n",
        "\r\n",
        "# We print x\r\n",
        "print()\r\n",
        "print('x = ', x)\r\n",
        "print()\r\n",
        "\r\n",
        "# We print the dtype x\r\n",
        "print('The elements in x are of type:', x.dtype)"
      ],
      "execution_count": 18,
      "outputs": [
        {
          "output_type": "stream",
          "text": [
            "\n",
            "x =  [1 2 3 4 5]\n",
            "\n",
            "The elements in x are of type: int64\n"
          ],
          "name": "stdout"
        }
      ]
    },
    {
      "cell_type": "markdown",
      "metadata": {
        "id": "W4C8UiHg2dA4"
      },
      "source": [
        "*Once* you create an ndarray, you may want to save it to a file to be read later or to be used by another program. NumPy provides a way to save the arrays into files for later use - let's see how this is done."
      ]
    },
    {
      "cell_type": "code",
      "metadata": {
        "id": "4paZL6kb2hSn"
      },
      "source": [
        "# We create a rank 1 ndarray\r\n",
        "x = np.array([1, 2, 3, 4, 5])\r\n",
        "\r\n",
        "# We save x into the current directory as \r\n",
        "np.save('my_array', x)"
      ],
      "execution_count": 20,
      "outputs": []
    },
    {
      "cell_type": "markdown",
      "metadata": {
        "id": "F-x2aBIq2f1P"
      },
      "source": [
        "The above saves the x ndarray into a file named my_array.npy. You can load the saved ndarray into a variable by using the load() function."
      ]
    },
    {
      "cell_type": "markdown",
      "metadata": {
        "id": "MVub1jvs2m6J"
      },
      "source": [
        "> When loading an array from a file, make sure you include the name of the file together with the extension .npy, otherwise you will get an error."
      ]
    },
    {
      "cell_type": "code",
      "metadata": {
        "id": "7ffBk1ia2qhf"
      },
      "source": [
        "# We load the saved array from our current directory into variable y\r\n",
        "y = np.load('my_array.npy')\r\n",
        "\r\n",
        "# We print y\r\n",
        "print()\r\n",
        "print('y = ', y)\r\n",
        "print()\r\n",
        "\r\n",
        "# We print information about the ndarray we loaded\r\n",
        "print('y is an object of type:', type(y))\r\n",
        "print('The elements in y are of type:', y.dtype)"
      ],
      "execution_count": null,
      "outputs": []
    },
    {
      "cell_type": "markdown",
      "metadata": {
        "id": "mb8ffCma2pph"
      },
      "source": [
        "## **Accessing Elements in ndarays:**\r\n",
        "Elements can be accessed using indices inside square brackets, [ ]. NumPy allows you to use both positive and negative indices to access elements in the ndarray. Positive indices are used to access elements from the beginning of the array, while negative indices are used to access elements from the end of the array. "
      ]
    },
    {
      "cell_type": "code",
      "metadata": {
        "colab": {
          "base_uri": "https://localhost:8080/"
        },
        "id": "-X435w8Q2xEw",
        "outputId": "81b1604c-7ee9-4771-d077-f561d7ebc4ed"
      },
      "source": [
        "# We create a rank 1 ndarray that contains integers from 1 to 5\r\n",
        "x = np.array([1, 2, 3, 4, 5])\r\n",
        "\r\n",
        "# We print x\r\n",
        "print()\r\n",
        "print('x = ', x)\r\n",
        "print()\r\n",
        "\r\n",
        "# Let's access some elements with positive indices\r\n",
        "print('This is First Element in x:', x[0]) \r\n",
        "print('This is Second Element in x:', x[1])\r\n",
        "print('This is Fifth (Last) Element in x:', x[4])\r\n",
        "print()\r\n",
        "\r\n",
        "# Let's access the same elements with negative indices\r\n",
        "print('This is First Element in x:', x[-5])\r\n",
        "print('This is Second Element in x:', x[-4])\r\n",
        "print('This is Fifth (Last) Element in x:', x[-1])"
      ],
      "execution_count": 21,
      "outputs": [
        {
          "output_type": "stream",
          "text": [
            "\n",
            "x =  [1 2 3 4 5]\n",
            "\n",
            "This is First Element in x: 1\n",
            "This is Second Element in x: 2\n",
            "This is Fifth (Last) Element in x: 5\n",
            "\n",
            "This is First Element in x: 1\n",
            "This is Second Element in x: 2\n",
            "This is Fifth (Last) Element in x: 5\n"
          ],
          "name": "stdout"
        }
      ]
    },
    {
      "cell_type": "markdown",
      "metadata": {
        "id": "Wa1kUdVD2wrJ"
      },
      "source": [
        "## Modifying ndarrays:\r\n",
        "Now let's see how we can change the elements in rank 1 ndarrays. We do this by accessing the element we want to change and then using the = sign to assign the new value:"
      ]
    },
    {
      "cell_type": "code",
      "metadata": {
        "colab": {
          "base_uri": "https://localhost:8080/"
        },
        "id": "a3k_CGkI21iX",
        "outputId": "9284ea24-17b7-4281-d741-7283b462cc94"
      },
      "source": [
        "# We create a rank 1 ndarray that contains integers from 1 to 5\r\n",
        "x = np.array([1, 2, 3, 4, 5])\r\n",
        "\r\n",
        "# We print the original x\r\n",
        "print()\r\n",
        "print('Original:\\n x = ', x)\r\n",
        "print()\r\n",
        "\r\n",
        "# We change the fourth element in x from 4 to 20\r\n",
        "x[3] = 20\r\n",
        "\r\n",
        "# We print x after it was modified \r\n",
        "print('Modified:\\n x = ', x)\r\n"
      ],
      "execution_count": 22,
      "outputs": [
        {
          "output_type": "stream",
          "text": [
            "\n",
            "Original:\n",
            " x =  [1 2 3 4 5]\n",
            "\n",
            "Modified:\n",
            " x =  [ 1  2  3 20  5]\n"
          ],
          "name": "stdout"
        }
      ]
    },
    {
      "cell_type": "markdown",
      "metadata": {
        "id": "tajTq0or233f"
      },
      "source": [
        "Similarly, we can also access and modify specific elements of rank 2 ndarrays. To access elements in rank 2 ndarrays we need to provide 2 indices in the form [row, column]. Let's see some examples"
      ]
    },
    {
      "cell_type": "code",
      "metadata": {
        "colab": {
          "base_uri": "https://localhost:8080/"
        },
        "id": "qp23V7TQ27QL",
        "outputId": "554f2dae-cea7-42db-9550-cd774b5bc2f2"
      },
      "source": [
        "# We create a 3 x 3 rank 2 ndarray that contains integers from 1 to 9\r\n",
        "X = np.array([[1,2,3],[4,5,6],[7,8,9]])\r\n",
        "\r\n",
        "# We print X\r\n",
        "print()\r\n",
        "print('X = \\n', X)\r\n",
        "print()\r\n",
        "\r\n",
        "# Let's access some elements in X\r\n",
        "print('This is (0,0) Element in X:', X[0,0])\r\n",
        "print('This is (0,1) Element in X:', X[0,1])\r\n",
        "print('This is (2,2) Element in X:', X[2,2])"
      ],
      "execution_count": 23,
      "outputs": [
        {
          "output_type": "stream",
          "text": [
            "\n",
            "X = \n",
            " [[1 2 3]\n",
            " [4 5 6]\n",
            " [7 8 9]]\n",
            "\n",
            "This is (0,0) Element in X: 1\n",
            "This is (0,1) Element in X: 2\n",
            "This is (2,2) Element in X: 9\n"
          ],
          "name": "stdout"
        }
      ]
    },
    {
      "cell_type": "markdown",
      "metadata": {
        "id": "79zKQRBS27__"
      },
      "source": [
        "Elements in rank 2 ndarrays can be modified in the same way as with rank 1 ndarrays. Let's see an example:"
      ]
    },
    {
      "cell_type": "code",
      "metadata": {
        "colab": {
          "base_uri": "https://localhost:8080/"
        },
        "id": "zQ3jNTin2_V4",
        "outputId": "699d1d5b-6b05-4cbc-cb8e-1c1cc415f039"
      },
      "source": [
        "# We create a 3 x 3 rank 2 ndarray that contains integers from 1 to 9\r\n",
        "X = np.array([[1,2,3],[4,5,6],[7,8,9]])\r\n",
        "\r\n",
        "# We print the original x\r\n",
        "print()\r\n",
        "print('Original:\\n X = \\n', X)\r\n",
        "print()\r\n",
        "\r\n",
        "# We change the (0,0) element in X from 1 to 20\r\n",
        "X[0,0] = 20\r\n",
        "\r\n",
        "# We print X after it was modified \r\n",
        "print('Modified:\\n X = \\n', X)\r\n"
      ],
      "execution_count": 24,
      "outputs": [
        {
          "output_type": "stream",
          "text": [
            "\n",
            "Original:\n",
            " X = \n",
            " [[1 2 3]\n",
            " [4 5 6]\n",
            " [7 8 9]]\n",
            "\n",
            "Modified:\n",
            " X = \n",
            " [[20  2  3]\n",
            " [ 4  5  6]\n",
            " [ 7  8  9]]\n"
          ],
          "name": "stdout"
        }
      ]
    },
    {
      "cell_type": "markdown",
      "metadata": {
        "id": "v4FRQqkc3B2v"
      },
      "source": [
        "## **Adding and Deleting elements:**\r\n",
        "Now, let's take a look at how we can add and delete elements from ndarrays. We can delete elements using the np.delete(ndarray, elements, axis) function. This function deletes the given list of elements from the given ndarray along the specified axis. For rank 1 ndarrays the axis keyword is not required. For rank 2 ndarrays, axis = 0 is used to select rows, and axis = 1 is used to select columns. Let's see some examples:"
      ]
    },
    {
      "cell_type": "code",
      "metadata": {
        "colab": {
          "base_uri": "https://localhost:8080/"
        },
        "id": "tDkfU-nP3GHW",
        "outputId": "2cfd125f-507f-4455-c9e0-b024476f92f1"
      },
      "source": [
        "# We create a rank 1 ndarray \r\n",
        "x = np.array([1, 2, 3, 4, 5])\r\n",
        "\r\n",
        "# We create a rank 2 ndarray\r\n",
        "Y = np.array([[1,2,3],[4,5,6],[7,8,9]])\r\n",
        "\r\n",
        "# We print x\r\n",
        "print()\r\n",
        "print('Original x = ', x)\r\n",
        "\r\n",
        "# We delete the first and last element of x\r\n",
        "x = np.delete(x, [0,4])\r\n",
        "\r\n",
        "# We print x with the first and last element deleted\r\n",
        "print()\r\n",
        "print('Modified x = ', x)\r\n",
        "\r\n",
        "# We print Y\r\n",
        "print()\r\n",
        "print('Original Y = \\n', Y)\r\n",
        "\r\n",
        "# We delete the first row of y\r\n",
        "w = np.delete(Y, 0, axis=0)\r\n",
        "\r\n",
        "# We delete the first and last column of y\r\n",
        "v = np.delete(Y, [0,2], axis=1)\r\n",
        "\r\n",
        "# We print w\r\n",
        "print()\r\n",
        "print('w = \\n', w)\r\n",
        "\r\n",
        "# We print v\r\n",
        "print()\r\n",
        "print('v = \\n', v)"
      ],
      "execution_count": 25,
      "outputs": [
        {
          "output_type": "stream",
          "text": [
            "\n",
            "Original x =  [1 2 3 4 5]\n",
            "\n",
            "Modified x =  [2 3 4]\n",
            "\n",
            "Original Y = \n",
            " [[1 2 3]\n",
            " [4 5 6]\n",
            " [7 8 9]]\n",
            "\n",
            "w = \n",
            " [[4 5 6]\n",
            " [7 8 9]]\n",
            "\n",
            "v = \n",
            " [[2]\n",
            " [5]\n",
            " [8]]\n"
          ],
          "name": "stdout"
        }
      ]
    },
    {
      "cell_type": "markdown",
      "metadata": {
        "id": "iNMIDWuP3IeH"
      },
      "source": [
        "We can append values to ndarrays using the np.append(ndarray, elements, axis) function. This function appends the given list of elements to ndarray along the specified axis. Let's see some examples:"
      ]
    },
    {
      "cell_type": "code",
      "metadata": {
        "colab": {
          "base_uri": "https://localhost:8080/"
        },
        "id": "c_f9uUXq3Kg_",
        "outputId": "f2a329c5-a37c-484a-c098-120336f77713"
      },
      "source": [
        "# We create a rank 1 ndarray \r\n",
        "x = np.array([1, 2, 3, 4, 5])\r\n",
        "\r\n",
        "# We create a rank 2 ndarray \r\n",
        "Y = np.array([[1,2,3],[4,5,6]])\r\n",
        "\r\n",
        "# We print x\r\n",
        "print()\r\n",
        "print('Original x = ', x)\r\n",
        "\r\n",
        "# We append the integer 6 to x\r\n",
        "x = np.append(x, 6)\r\n",
        "\r\n",
        "# We print x\r\n",
        "print()\r\n",
        "print('x = ', x)\r\n",
        "\r\n",
        "# We append the integer 7 and 8 to x\r\n",
        "x = np.append(x, [7,8])\r\n",
        "\r\n",
        "# We print x\r\n",
        "print()\r\n",
        "print('x = ', x)\r\n",
        "\r\n",
        "# We print Y\r\n",
        "print()\r\n",
        "print('Original Y = \\n', Y)\r\n",
        "\r\n",
        "# We append a new row containing 7,8,9 to y\r\n",
        "v = np.append(Y, [[7,8,9]], axis=0)\r\n",
        "\r\n",
        "# We append a new column containing 9 and 10 to y\r\n",
        "q = np.append(Y,[[9],[10]], axis=1)\r\n",
        "\r\n",
        "# We print v\r\n",
        "print()\r\n",
        "print('v = \\n', v)\r\n",
        "\r\n",
        "# We print q\r\n",
        "print()\r\n",
        "print('q = \\n', q)"
      ],
      "execution_count": 26,
      "outputs": [
        {
          "output_type": "stream",
          "text": [
            "\n",
            "Original x =  [1 2 3 4 5]\n",
            "\n",
            "x =  [1 2 3 4 5 6]\n",
            "\n",
            "x =  [1 2 3 4 5 6 7 8]\n",
            "\n",
            "Original Y = \n",
            " [[1 2 3]\n",
            " [4 5 6]]\n",
            "\n",
            "v = \n",
            " [[1 2 3]\n",
            " [4 5 6]\n",
            " [7 8 9]]\n",
            "\n",
            "q = \n",
            " [[ 1  2  3  9]\n",
            " [ 4  5  6 10]]\n"
          ],
          "name": "stdout"
        }
      ]
    },
    {
      "cell_type": "markdown",
      "metadata": {
        "id": "WcymFKeN3KJX"
      },
      "source": [
        "Now let's see now how we can insert values to ndarrays. We can insert values to ndarrays using the np.insert(ndarray, index, elements, axis) function. This function inserts the given list of elements to ndarray right before the given index along the specified axis. Let's see some examples:"
      ]
    },
    {
      "cell_type": "code",
      "metadata": {
        "colab": {
          "base_uri": "https://localhost:8080/"
        },
        "id": "sCmU8hcJ3Owg",
        "outputId": "38463873-b1b6-4bf3-cac8-0df320aac252"
      },
      "source": [
        "# We create a rank 1 ndarray \r\n",
        "x = np.array([1, 2, 5, 6, 7])\r\n",
        "\r\n",
        "# We create a rank 2 ndarray \r\n",
        "Y = np.array([[1,2,3],[7,8,9]])\r\n",
        "\r\n",
        "# We print x\r\n",
        "print()\r\n",
        "print('Original x = ', x)\r\n",
        "\r\n",
        "# We insert the integer 3 and 4 between 2 and 5 in x. \r\n",
        "x = np.insert(x,2,[3,4])\r\n",
        "\r\n",
        "# We print x with the inserted elements\r\n",
        "print()\r\n",
        "print('x = ', x)\r\n",
        "\r\n",
        "# We print Y\r\n",
        "print()\r\n",
        "print('Original Y = \\n', Y)\r\n",
        "\r\n",
        "# We insert a row between the first and last row of y\r\n",
        "w = np.insert(Y,1,[4,5,6],axis=0)\r\n",
        "\r\n",
        "# We insert a column full of 5s between the first and second column of y\r\n",
        "v = np.insert(Y,1,5, axis=1)\r\n",
        "\r\n",
        "# We print w\r\n",
        "print()\r\n",
        "print('w = \\n', w)\r\n",
        "\r\n",
        "# We print v\r\n",
        "print()\r\n",
        "print('v = \\n', v)"
      ],
      "execution_count": 27,
      "outputs": [
        {
          "output_type": "stream",
          "text": [
            "\n",
            "Original x =  [1 2 5 6 7]\n",
            "\n",
            "x =  [1 2 3 4 5 6 7]\n",
            "\n",
            "Original Y = \n",
            " [[1 2 3]\n",
            " [7 8 9]]\n",
            "\n",
            "w = \n",
            " [[1 2 3]\n",
            " [4 5 6]\n",
            " [7 8 9]]\n",
            "\n",
            "v = \n",
            " [[1 5 2 3]\n",
            " [7 5 8 9]]\n"
          ],
          "name": "stdout"
        }
      ]
    },
    {
      "cell_type": "markdown",
      "metadata": {
        "id": "dKAtY2qC3Pfq"
      },
      "source": [
        "NumPy also allows us to stack ndarrays on top of each other, or to stack them side by side. The stacking is done using either the np.vstack() function for vertical stacking, or the np.hstack() function for horizontal stacking. It is important to note that in order to stack ndarrays, the shape of the ndarrays must match. Let's see some examples:"
      ]
    },
    {
      "cell_type": "code",
      "metadata": {
        "colab": {
          "base_uri": "https://localhost:8080/"
        },
        "id": "UVJs7JKB3Rnv",
        "outputId": "f751d458-6df7-4d3d-8735-bbfda2d2ec7f"
      },
      "source": [
        "# We create a rank 1 ndarray \r\n",
        "x = np.array([1,2])\r\n",
        "\r\n",
        "# We create a rank 2 ndarray \r\n",
        "Y = np.array([[3,4],[5,6]])\r\n",
        "\r\n",
        "# We print x\r\n",
        "print()\r\n",
        "print('x = ', x)\r\n",
        "\r\n",
        "# We print Y\r\n",
        "print()\r\n",
        "print('Y = \\n', Y)\r\n",
        "\r\n",
        "# We stack x on top of Y\r\n",
        "z = np.vstack((x,Y))\r\n",
        "\r\n",
        "# We stack x on the right of Y. We need to reshape x in order to stack it on the right of Y. \r\n",
        "w = np.hstack((Y,x.reshape(2,1)))\r\n",
        "\r\n",
        "# We print z\r\n",
        "print()\r\n",
        "print('z = \\n', z)\r\n",
        "\r\n",
        "# We print w\r\n",
        "print()\r\n",
        "print('w = \\n', w)"
      ],
      "execution_count": 28,
      "outputs": [
        {
          "output_type": "stream",
          "text": [
            "\n",
            "x =  [1 2]\n",
            "\n",
            "Y = \n",
            " [[3 4]\n",
            " [5 6]]\n",
            "\n",
            "z = \n",
            " [[1 2]\n",
            " [3 4]\n",
            " [5 6]]\n",
            "\n",
            "w = \n",
            " [[3 4 1]\n",
            " [5 6 2]]\n"
          ],
          "name": "stdout"
        }
      ]
    }
  ]
}