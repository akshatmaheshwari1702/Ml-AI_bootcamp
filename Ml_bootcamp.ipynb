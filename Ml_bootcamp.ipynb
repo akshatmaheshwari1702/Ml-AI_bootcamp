{
  "nbformat": 4,
  "nbformat_minor": 0,
  "metadata": {
    "colab": {
      "name": "Ml_bootcamp.ipynb",
      "provenance": [],
      "mount_file_id": "168CK6coliTzMrsaHqf6D_iJUJ3c1jjUx",
      "authorship_tag": "ABX9TyP1twF5om1fP/wb3Ju2tTng",
      "include_colab_link": true
    },
    "kernelspec": {
      "display_name": "Python 3",
      "name": "python3"
    }
  },
  "cells": [
    {
      "cell_type": "markdown",
      "metadata": {
        "id": "view-in-github",
        "colab_type": "text"
      },
      "source": [
        "<a href=\"https://colab.research.google.com/github/akshatmaheshwari1702/123/blob/master/Ml_bootcamp.ipynb\" target=\"_parent\"><img src=\"https://colab.research.google.com/assets/colab-badge.svg\" alt=\"Open In Colab\"/></a>"
      ]
    },
    {
      "cell_type": "code",
      "metadata": {
        "colab": {
          "base_uri": "https://localhost:8080/"
        },
        "id": "fTB_0TOwQTMD",
        "outputId": "9b1868d3-634c-4b5d-cc42-f063444c4c62"
      },
      "source": [
        "2+7\r\n",
        "2*7\r\n"
      ],
      "execution_count": 4,
      "outputs": [
        {
          "output_type": "execute_result",
          "data": {
            "text/plain": [
              "14"
            ]
          },
          "metadata": {
            "tags": []
          },
          "execution_count": 4
        }
      ]
    },
    {
      "cell_type": "code",
      "metadata": {
        "colab": {
          "base_uri": "https://localhost:8080/"
        },
        "id": "2i28ug-2R9NF",
        "outputId": "e0551f0c-b337-446f-8c5a-d58af6ce38d1"
      },
      "source": [
        "print(2+7)\r\n",
        "print(2*7)"
      ],
      "execution_count": 5,
      "outputs": [
        {
          "output_type": "stream",
          "text": [
            "9\n",
            "14\n"
          ],
          "name": "stdout"
        }
      ]
    },
    {
      "cell_type": "code",
      "metadata": {
        "colab": {
          "base_uri": "https://localhost:8080/"
        },
        "id": "fiq3tAjUSLO2",
        "outputId": "97ca3ebe-dcd3-42f1-a42f-cf03efbc10e0"
      },
      "source": [
        "print('Hello World!!!')"
      ],
      "execution_count": 6,
      "outputs": [
        {
          "output_type": "stream",
          "text": [
            "Hello World!!!\n"
          ],
          "name": "stdout"
        }
      ]
    },
    {
      "cell_type": "code",
      "metadata": {
        "colab": {
          "base_uri": "https://localhost:8080/"
        },
        "id": "xGdyy9ccSVAu",
        "outputId": "38f0ff03-977d-4063-da94-e0eac63740a9"
      },
      "source": [
        "month=12\r\n",
        "print(month)"
      ],
      "execution_count": 7,
      "outputs": [
        {
          "output_type": "stream",
          "text": [
            "12\n"
          ],
          "name": "stdout"
        }
      ]
    },
    {
      "cell_type": "code",
      "metadata": {
        "colab": {
          "base_uri": "https://localhost:8080/"
        },
        "id": "h57zuqn_SiaN",
        "outputId": "553a2918-4d49-44de-d864-e61b8b784e5c"
      },
      "source": [
        "rent = 1700\r\n",
        "print(rent)"
      ],
      "execution_count": 8,
      "outputs": [
        {
          "output_type": "stream",
          "text": [
            "1700\n"
          ],
          "name": "stdout"
        }
      ]
    },
    {
      "cell_type": "code",
      "metadata": {
        "colab": {
          "base_uri": "https://localhost:8080/"
        },
        "id": "qtfdu-zJTZu2",
        "outputId": "af6278c2-c052-4329-a42d-c545d8c22aa1"
      },
      "source": [
        "a=3\r\n",
        "b=a\r\n",
        "print(b)"
      ],
      "execution_count": 9,
      "outputs": [
        {
          "output_type": "stream",
          "text": [
            "3\n"
          ],
          "name": "stdout"
        }
      ]
    },
    {
      "cell_type": "code",
      "metadata": {
        "colab": {
          "base_uri": "https://localhost:8080/"
        },
        "id": "F3SRBBVJTnvs",
        "outputId": "571b9724-af19-443e-f316-ca76cb5df0af"
      },
      "source": [
        "x='student'\r\n",
        "print(x)"
      ],
      "execution_count": 12,
      "outputs": [
        {
          "output_type": "stream",
          "text": [
            "student\n"
          ],
          "name": "stdout"
        }
      ]
    },
    {
      "cell_type": "code",
      "metadata": {
        "colab": {
          "base_uri": "https://localhost:8080/"
        },
        "id": "ml1LuVvmT3QO",
        "outputId": "d09d0934-8ba9-4002-f713-9b03d778e08e"
      },
      "source": [
        "height = 3\r\n",
        "length = 6\r\n",
        "width = 2\r\n",
        "volume = height * length * width\r\n",
        "print(volume)"
      ],
      "execution_count": 13,
      "outputs": [
        {
          "output_type": "stream",
          "text": [
            "36\n"
          ],
          "name": "stdout"
        }
      ]
    },
    {
      "cell_type": "code",
      "metadata": {
        "colab": {
          "base_uri": "https://localhost:8080/"
        },
        "id": "HwuQtF8oUIgl",
        "outputId": "495f2fd7-9f78-4d66-b43a-350a1acb04e7"
      },
      "source": [
        "height , length , width = 3,6,2\r\n",
        "volume = height * length * width\r\n",
        "print(volume)"
      ],
      "execution_count": 14,
      "outputs": [
        {
          "output_type": "stream",
          "text": [
            "36\n"
          ],
          "name": "stdout"
        }
      ]
    },
    {
      "cell_type": "code",
      "metadata": {
        "id": "DHjjrNHkU4gN"
      },
      "source": [
        " #Allowed variable names\r\n",
        "\r\n",
        "x=2\r\n",
        "y=\"Hello\"\r\n",
        "mypython=\"PythonGuides\"\r\n",
        "my_python=\"PythonGuides\"\r\n",
        "_my_python=\"PythonGuides\"\r\n",
        "_mypython=\"PythonGuides\"\r\n",
        "MYPYTHON=\"PythonGuides\"\r\n",
        "myPython=\"PythonGuides\"\r\n",
        "myPython7=\"PythonGuides\""
      ],
      "execution_count": 17,
      "outputs": []
    },
    {
      "cell_type": "code",
      "metadata": {
        "colab": {
          "base_uri": "https://localhost:8080/",
          "height": 128
        },
        "id": "pLGiHmhWYYPf",
        "outputId": "7cc9d020-c672-4ef1-d433-46bee03b8007"
      },
      "source": [
        "#Variable name not Allowed\r\n",
        "\r\n",
        "7mypython=\"PythonGuides\"\r\n",
        "-mypython=\"PythonGuides\"\r\n",
        "myPy@thon=\"PythonGuides\"\r\n",
        "my Python=\"PythonGuides\"\r\n",
        "for=\"PythonGuides\"\r\n",
        "\r\n",
        "#It shows invalid syntax. \r\n",
        "#It will execute one by one and will show the error."
      ],
      "execution_count": 18,
      "outputs": [
        {
          "output_type": "error",
          "ename": "SyntaxError",
          "evalue": "ignored",
          "traceback": [
            "\u001b[0;36m  File \u001b[0;32m\"<ipython-input-18-23d4199b4438>\"\u001b[0;36m, line \u001b[0;32m3\u001b[0m\n\u001b[0;31m    7mypython=\"PythonGuides\"\u001b[0m\n\u001b[0m            ^\u001b[0m\n\u001b[0;31mSyntaxError\u001b[0m\u001b[0;31m:\u001b[0m invalid syntax\n"
          ]
        }
      ]
    },
    {
      "cell_type": "code",
      "metadata": {
        "colab": {
          "base_uri": "https://localhost:8080/"
        },
        "id": "NREkRhHHYaws",
        "outputId": "9c59a64a-07b5-4b69-ecf3-65592232fd5c"
      },
      "source": [
        "rent = 1700\r\n",
        "rent = 2000\r\n",
        "print(rent)"
      ],
      "execution_count": 19,
      "outputs": [
        {
          "output_type": "stream",
          "text": [
            "2000\n"
          ],
          "name": "stdout"
        }
      ]
    },
    {
      "cell_type": "code",
      "metadata": {
        "colab": {
          "base_uri": "https://localhost:8080/"
        },
        "id": "HXEXG_xwZDTT",
        "outputId": "74d1368a-3421-4ca2-9158-31c1cf31bfcc"
      },
      "source": [
        "rent = 1700\r\n",
        "rent = 2000\r\n",
        "rent = rent + 700\r\n",
        "print(rent)"
      ],
      "execution_count": 20,
      "outputs": [
        {
          "output_type": "stream",
          "text": [
            "2700\n"
          ],
          "name": "stdout"
        }
      ]
    },
    {
      "cell_type": "code",
      "metadata": {
        "colab": {
          "base_uri": "https://localhost:8080/"
        },
        "id": "2IBjtuEEZVcT",
        "outputId": "18b22ae5-3557-4f52-a665-5d6a44b2d358"
      },
      "source": [
        "rent = 1700\r\n",
        "rent = 2000\r\n",
        "rent += 700\r\n",
        "print(rent)"
      ],
      "execution_count": 21,
      "outputs": [
        {
          "output_type": "stream",
          "text": [
            "2700\n"
          ],
          "name": "stdout"
        }
      ]
    },
    {
      "cell_type": "code",
      "metadata": {
        "colab": {
          "base_uri": "https://localhost:8080/"
        },
        "id": "so7JjSWsZkGy",
        "outputId": "4d1d1b54-3bae-44b2-cf05-707d3bf3a4d3"
      },
      "source": [
        "print(3/2)"
      ],
      "execution_count": 22,
      "outputs": [
        {
          "output_type": "stream",
          "text": [
            "1.5\n"
          ],
          "name": "stdout"
        }
      ]
    },
    {
      "cell_type": "code",
      "metadata": {
        "colab": {
          "base_uri": "https://localhost:8080/"
        },
        "id": "caX9JBcNZqO8",
        "outputId": "f965236f-990c-464c-bf01-b624878a49e7"
      },
      "source": [
        "type(3/2)"
      ],
      "execution_count": 23,
      "outputs": [
        {
          "output_type": "execute_result",
          "data": {
            "text/plain": [
              "float"
            ]
          },
          "metadata": {
            "tags": []
          },
          "execution_count": 23
        }
      ]
    },
    {
      "cell_type": "code",
      "metadata": {
        "colab": {
          "base_uri": "https://localhost:8080/"
        },
        "id": "DT6cbp0raNnu",
        "outputId": "a73f19e1-1ba6-4880-d651-5ce6e0796efc"
      },
      "source": [
        "a = 3\r\n",
        "b = 2.5\r\n",
        "\r\n",
        "print(type(a))\r\n",
        "print(type(b))"
      ],
      "execution_count": 24,
      "outputs": [
        {
          "output_type": "stream",
          "text": [
            "<class 'int'>\n",
            "<class 'float'>\n"
          ],
          "name": "stdout"
        }
      ]
    },
    {
      "cell_type": "code",
      "metadata": {
        "colab": {
          "base_uri": "https://localhost:8080/"
        },
        "id": "z6-JLOiuaYTc",
        "outputId": "9fcde349-544c-4bdb-c4f7-69c906c8ffab"
      },
      "source": [
        "a = float(3)\r\n",
        "b = int(28.9)\r\n",
        "print(a)\r\n",
        "print(b)"
      ],
      "execution_count": 26,
      "outputs": [
        {
          "output_type": "stream",
          "text": [
            "3.0\n",
            "28\n"
          ],
          "name": "stdout"
        }
      ]
    },
    {
      "cell_type": "code",
      "metadata": {
        "colab": {
          "base_uri": "https://localhost:8080/"
        },
        "id": "Kqru0rLKax1r",
        "outputId": "9803d1b9-7e42-4e5a-b84f-8c0c72ed41b9"
      },
      "source": [
        "print(0.23 + 0.23 + 0.23 + 0.23 + 0.23 + 0.23\r\n",
        "       + 0.23 + 0.23 + 0.23 + 0.23 + 0.23 + 0.23\r\n",
        "       + 0.23 + 0.23 + 0.23 + 0.23 + 0.23 + 0.23\r\n",
        "       + 0.23 + 0.23 + 0.23 + 0.23 + 0.23 + 0.23\r\n",
        "       + 0.23 + 0.23 + 0.23 + 0.23+ 0.23 + 0.23 == 6.9)"
      ],
      "execution_count": 27,
      "outputs": [
        {
          "output_type": "stream",
          "text": [
            "False\n"
          ],
          "name": "stdout"
        }
      ]
    },
    {
      "cell_type": "code",
      "metadata": {
        "id": "IPp39fA2a9tD"
      },
      "source": [
        "python_awsome = True\r\n",
        "documentation_bad = False"
      ],
      "execution_count": 28,
      "outputs": []
    },
    {
      "cell_type": "code",
      "metadata": {
        "colab": {
          "base_uri": "https://localhost:8080/"
        },
        "id": "sA6oE2cvbfSd",
        "outputId": "cca04a66-e640-45df-812a-35e21758e269"
      },
      "source": [
        "a = 3>1\r\n",
        "print(a)"
      ],
      "execution_count": 29,
      "outputs": [
        {
          "output_type": "stream",
          "text": [
            "True\n"
          ],
          "name": "stdout"
        }
      ]
    },
    {
      "cell_type": "code",
      "metadata": {
        "colab": {
          "base_uri": "https://localhost:8080/"
        },
        "id": "CYjBTJZkcA5X",
        "outputId": "8f08b8aa-517f-4aea-87af-322fcdc947c5"
      },
      "source": [
        "rent = 1200\r\n",
        "is_affordable = rent > 1000 and rent < 2000\r\n",
        "\r\n",
        "print(is_affordable)"
      ],
      "execution_count": 31,
      "outputs": [
        {
          "output_type": "stream",
          "text": [
            "True\n"
          ],
          "name": "stdout"
        }
      ]
    },
    {
      "cell_type": "code",
      "metadata": {
        "colab": {
          "base_uri": "https://localhost:8080/"
        },
        "id": "NzGZvb_LcFoL",
        "outputId": "c9dff10f-5b77-41b1-fe4d-9b255efa7b8d"
      },
      "source": [
        "rent = 1200\r\n",
        "is_affordable = not(rent > 1000 and rent < 2000) #\"not\" just inverts bool value\r\n",
        "\r\n",
        "print(is_affordable)"
      ],
      "execution_count": 32,
      "outputs": [
        {
          "output_type": "stream",
          "text": [
            "False\n"
          ],
          "name": "stdout"
        }
      ]
    },
    {
      "cell_type": "code",
      "metadata": {
        "colab": {
          "base_uri": "https://localhost:8080/"
        },
        "id": "N5YzRFkAcd5C",
        "outputId": "55486e4a-4bf9-41bb-8fce-fd5c5420f62a"
      },
      "source": [
        "print(\"Akshat\")\r\n",
        "print('Akshat')"
      ],
      "execution_count": 33,
      "outputs": [
        {
          "output_type": "stream",
          "text": [
            "Akshat\n",
            "Akshat\n"
          ],
          "name": "stdout"
        }
      ]
    },
    {
      "cell_type": "code",
      "metadata": {
        "colab": {
          "base_uri": "https://localhost:8080/"
        },
        "id": "EHsfPRx-cnzp",
        "outputId": "0e958ca7-c557-46fb-f29b-f9c2268bae6e"
      },
      "source": [
        "motto = \"Learn | Code | Compete | Intern\" \r\n",
        "print(motto)"
      ],
      "execution_count": 34,
      "outputs": [
        {
          "output_type": "stream",
          "text": [
            "Learn | Code | Compete | Intern\n"
          ],
          "name": "stdout"
        }
      ]
    },
    {
      "cell_type": "code",
      "metadata": {
        "colab": {
          "base_uri": "https://localhost:8080/"
        },
        "id": "Fi8X6zIPdNz3",
        "outputId": "b8edced3-767a-476a-99f7-27c4d7f3fae9"
      },
      "source": [
        "type(motto)"
      ],
      "execution_count": 35,
      "outputs": [
        {
          "output_type": "execute_result",
          "data": {
            "text/plain": [
              "str"
            ]
          },
          "metadata": {
            "tags": []
          },
          "execution_count": 35
        }
      ]
    },
    {
      "cell_type": "code",
      "metadata": {
        "colab": {
          "base_uri": "https://localhost:8080/",
          "height": 128
        },
        "id": "_El17XmXdSHr",
        "outputId": "3e09a985-503a-41f0-b0a4-d2f8c6e5fcd9"
      },
      "source": [
        "dialogue = \"shiva said, \"you learn as you grow\"\""
      ],
      "execution_count": 36,
      "outputs": [
        {
          "output_type": "error",
          "ename": "SyntaxError",
          "evalue": "ignored",
          "traceback": [
            "\u001b[0;36m  File \u001b[0;32m\"<ipython-input-36-2d8d4e434758>\"\u001b[0;36m, line \u001b[0;32m1\u001b[0m\n\u001b[0;31m    dialogue = \"shiva said, \"you learn as you grow\"\"\u001b[0m\n\u001b[0m                               ^\u001b[0m\n\u001b[0;31mSyntaxError\u001b[0m\u001b[0;31m:\u001b[0m invalid syntax\n"
          ]
        }
      ]
    },
    {
      "cell_type": "code",
      "metadata": {
        "colab": {
          "base_uri": "https://localhost:8080/"
        },
        "id": "7cJLCWDudbYn",
        "outputId": "a259354b-8213-49ab-922b-058a96446aed"
      },
      "source": [
        "dialogue = 'shiva said, \"you learn as you grow\"'\r\n",
        "print(dialogue)"
      ],
      "execution_count": 37,
      "outputs": [
        {
          "output_type": "stream",
          "text": [
            "shiva said, \"you learn as you grow\"\n"
          ],
          "name": "stdout"
        }
      ]
    },
    {
      "cell_type": "code",
      "metadata": {
        "colab": {
          "base_uri": "https://localhost:8080/"
        },
        "id": "P-WjIaU_dj9W",
        "outputId": "8ae9240b-c677-495f-8ed3-cd1d6542fe5e"
      },
      "source": [
        "dialogue = '\"shiva you\\'re bag is red\"'\r\n",
        "print(dialogue)"
      ],
      "execution_count": 38,
      "outputs": [
        {
          "output_type": "stream",
          "text": [
            "\"shiva you're bag is red\"\n"
          ],
          "name": "stdout"
        }
      ]
    },
    {
      "cell_type": "code",
      "metadata": {
        "colab": {
          "base_uri": "https://localhost:8080/"
        },
        "id": "mtNATUbcdry5",
        "outputId": "5240741d-d61c-42e8-9125-82fcd42b8cb7"
      },
      "source": [
        "print(\"hello\" + \"world\")\r\n",
        "\r\n",
        "print(\"hello\" + \" \" + \"world\")"
      ],
      "execution_count": 39,
      "outputs": [
        {
          "output_type": "stream",
          "text": [
            "helloworld\n",
            "hello world\n"
          ],
          "name": "stdout"
        }
      ]
    },
    {
      "cell_type": "code",
      "metadata": {
        "colab": {
          "base_uri": "https://localhost:8080/"
        },
        "id": "59xpJjG_eaZh",
        "outputId": "8c19e5d9-a672-4082-8711-fa34d40086be"
      },
      "source": [
        "word_length = len(\"Akshat\")\r\n",
        "print(word_length)"
      ],
      "execution_count": 40,
      "outputs": [
        {
          "output_type": "stream",
          "text": [
            "6\n"
          ],
          "name": "stdout"
        }
      ]
    },
    {
      "cell_type": "code",
      "metadata": {
        "colab": {
          "base_uri": "https://localhost:8080/"
        },
        "id": "Ynl-Jtrzfx8f",
        "outputId": "9a0986fa-50d4-4878-a83a-4d317e29fec4"
      },
      "source": [
        "print(type(75))\r\n",
        "print(type(75.0))\r\n",
        "print(type(\"75\"))\r\n",
        "print(type(True))"
      ],
      "execution_count": 41,
      "outputs": [
        {
          "output_type": "stream",
          "text": [
            "<class 'int'>\n",
            "<class 'float'>\n",
            "<class 'str'>\n",
            "<class 'bool'>\n"
          ],
          "name": "stdout"
        }
      ]
    },
    {
      "cell_type": "code",
      "metadata": {
        "colab": {
          "base_uri": "https://localhost:8080/"
        },
        "id": "z2k37N-Ag1Bw",
        "outputId": "d20711e4-ee54-4598-ac42-0346bc7f9356"
      },
      "source": [
        "marks = 15\r\n",
        "subject = \"coding\"\r\n",
        "semester = \"first\"\r\n",
        "\r\n",
        "result = \"I scored \" + str(marks) + \" in \" + subject + \" during my \" + semester + \" semester.\"\r\n",
        "print(result)"
      ],
      "execution_count": 42,
      "outputs": [
        {
          "output_type": "stream",
          "text": [
            "I scored 15 in coding during my first semester.\n"
          ],
          "name": "stdout"
        }
      ]
    },
    {
      "cell_type": "code",
      "metadata": {
        "colab": {
          "base_uri": "https://localhost:8080/"
        },
        "id": "I9sdE8BmhaGf",
        "outputId": "34761ca8-9f46-4c78-d84c-3ccc72630b26"
      },
      "source": [
        "marks = \"15\"\r\n",
        "print(type(marks))\r\n",
        "marks = float(marks)\r\n",
        "print(type(marks))"
      ],
      "execution_count": 43,
      "outputs": [
        {
          "output_type": "stream",
          "text": [
            "<class 'str'>\n",
            "<class 'float'>\n"
          ],
          "name": "stdout"
        }
      ]
    },
    {
      "cell_type": "code",
      "metadata": {
        "id": "t_d-eHnChpZX"
      },
      "source": [
        ""
      ],
      "execution_count": null,
      "outputs": []
    }
  ]
}