{
  "nbformat": 4,
  "nbformat_minor": 0,
  "metadata": {
    "colab": {
      "name": "Ml_bootcamp.ipynb",
      "provenance": [],
      "collapsed_sections": [],
      "mount_file_id": "168CK6coliTzMrsaHqf6D_iJUJ3c1jjUx",
      "authorship_tag": "ABX9TyNCK96TcYFVS6bdsE+Mf7LY",
      "include_colab_link": true
    },
    "kernelspec": {
      "display_name": "Python 3",
      "name": "python3"
    }
  },
  "cells": [
    {
      "cell_type": "markdown",
      "metadata": {
        "id": "view-in-github",
        "colab_type": "text"
      },
      "source": [
        "<a href=\"https://colab.research.google.com/github/akshatmaheshwari1702/123/blob/master/Ml_bootcamp.ipynb\" target=\"_parent\"><img src=\"https://colab.research.google.com/assets/colab-badge.svg\" alt=\"Open In Colab\"/></a>"
      ]
    },
    {
      "cell_type": "code",
      "metadata": {
        "colab": {
          "base_uri": "https://localhost:8080/"
        },
        "id": "fTB_0TOwQTMD",
        "outputId": "9b1868d3-634c-4b5d-cc42-f063444c4c62"
      },
      "source": [
        "2+7\r\n",
        "2*7\r\n"
      ],
      "execution_count": null,
      "outputs": [
        {
          "output_type": "execute_result",
          "data": {
            "text/plain": [
              "14"
            ]
          },
          "metadata": {
            "tags": []
          },
          "execution_count": 4
        }
      ]
    },
    {
      "cell_type": "code",
      "metadata": {
        "colab": {
          "base_uri": "https://localhost:8080/"
        },
        "id": "2i28ug-2R9NF",
        "outputId": "e0551f0c-b337-446f-8c5a-d58af6ce38d1"
      },
      "source": [
        "print(2+7)\r\n",
        "print(2*7)"
      ],
      "execution_count": null,
      "outputs": [
        {
          "output_type": "stream",
          "text": [
            "9\n",
            "14\n"
          ],
          "name": "stdout"
        }
      ]
    },
    {
      "cell_type": "code",
      "metadata": {
        "colab": {
          "base_uri": "https://localhost:8080/"
        },
        "id": "fiq3tAjUSLO2",
        "outputId": "97ca3ebe-dcd3-42f1-a42f-cf03efbc10e0"
      },
      "source": [
        "print('Hello World!!!')"
      ],
      "execution_count": null,
      "outputs": [
        {
          "output_type": "stream",
          "text": [
            "Hello World!!!\n"
          ],
          "name": "stdout"
        }
      ]
    },
    {
      "cell_type": "code",
      "metadata": {
        "colab": {
          "base_uri": "https://localhost:8080/"
        },
        "id": "xGdyy9ccSVAu",
        "outputId": "38f0ff03-977d-4063-da94-e0eac63740a9"
      },
      "source": [
        "month=12\r\n",
        "print(month)"
      ],
      "execution_count": null,
      "outputs": [
        {
          "output_type": "stream",
          "text": [
            "12\n"
          ],
          "name": "stdout"
        }
      ]
    },
    {
      "cell_type": "code",
      "metadata": {
        "colab": {
          "base_uri": "https://localhost:8080/"
        },
        "id": "h57zuqn_SiaN",
        "outputId": "553a2918-4d49-44de-d864-e61b8b784e5c"
      },
      "source": [
        "rent = 1700\r\n",
        "print(rent)"
      ],
      "execution_count": null,
      "outputs": [
        {
          "output_type": "stream",
          "text": [
            "1700\n"
          ],
          "name": "stdout"
        }
      ]
    },
    {
      "cell_type": "code",
      "metadata": {
        "colab": {
          "base_uri": "https://localhost:8080/"
        },
        "id": "qtfdu-zJTZu2",
        "outputId": "af6278c2-c052-4329-a42d-c545d8c22aa1"
      },
      "source": [
        "a=3\r\n",
        "b=a\r\n",
        "print(b)"
      ],
      "execution_count": null,
      "outputs": [
        {
          "output_type": "stream",
          "text": [
            "3\n"
          ],
          "name": "stdout"
        }
      ]
    },
    {
      "cell_type": "code",
      "metadata": {
        "colab": {
          "base_uri": "https://localhost:8080/"
        },
        "id": "F3SRBBVJTnvs",
        "outputId": "571b9724-af19-443e-f316-ca76cb5df0af"
      },
      "source": [
        "x='student'\r\n",
        "print(x)"
      ],
      "execution_count": null,
      "outputs": [
        {
          "output_type": "stream",
          "text": [
            "student\n"
          ],
          "name": "stdout"
        }
      ]
    },
    {
      "cell_type": "code",
      "metadata": {
        "colab": {
          "base_uri": "https://localhost:8080/"
        },
        "id": "ml1LuVvmT3QO",
        "outputId": "d09d0934-8ba9-4002-f713-9b03d778e08e"
      },
      "source": [
        "height = 3\r\n",
        "length = 6\r\n",
        "width = 2\r\n",
        "volume = height * length * width\r\n",
        "print(volume)"
      ],
      "execution_count": null,
      "outputs": [
        {
          "output_type": "stream",
          "text": [
            "36\n"
          ],
          "name": "stdout"
        }
      ]
    },
    {
      "cell_type": "code",
      "metadata": {
        "colab": {
          "base_uri": "https://localhost:8080/"
        },
        "id": "HwuQtF8oUIgl",
        "outputId": "495f2fd7-9f78-4d66-b43a-350a1acb04e7"
      },
      "source": [
        "height , length , width = 3,6,2\r\n",
        "volume = height * length * width\r\n",
        "print(volume)"
      ],
      "execution_count": null,
      "outputs": [
        {
          "output_type": "stream",
          "text": [
            "36\n"
          ],
          "name": "stdout"
        }
      ]
    },
    {
      "cell_type": "code",
      "metadata": {
        "id": "DHjjrNHkU4gN"
      },
      "source": [
        " #Allowed variable names\r\n",
        "\r\n",
        "x=2\r\n",
        "y=\"Hello\"\r\n",
        "mypython=\"PythonGuides\"\r\n",
        "my_python=\"PythonGuides\"\r\n",
        "_my_python=\"PythonGuides\"\r\n",
        "_mypython=\"PythonGuides\"\r\n",
        "MYPYTHON=\"PythonGuides\"\r\n",
        "myPython=\"PythonGuides\"\r\n",
        "myPython7=\"PythonGuides\""
      ],
      "execution_count": null,
      "outputs": []
    },
    {
      "cell_type": "code",
      "metadata": {
        "colab": {
          "base_uri": "https://localhost:8080/",
          "height": 128
        },
        "id": "pLGiHmhWYYPf",
        "outputId": "7cc9d020-c672-4ef1-d433-46bee03b8007"
      },
      "source": [
        "#Variable name not Allowed\r\n",
        "\r\n",
        "7mypython=\"PythonGuides\"\r\n",
        "-mypython=\"PythonGuides\"\r\n",
        "myPy@thon=\"PythonGuides\"\r\n",
        "my Python=\"PythonGuides\"\r\n",
        "for=\"PythonGuides\"\r\n",
        "\r\n",
        "#It shows invalid syntax. \r\n",
        "#It will execute one by one and will show the error."
      ],
      "execution_count": null,
      "outputs": [
        {
          "output_type": "error",
          "ename": "SyntaxError",
          "evalue": "ignored",
          "traceback": [
            "\u001b[0;36m  File \u001b[0;32m\"<ipython-input-18-23d4199b4438>\"\u001b[0;36m, line \u001b[0;32m3\u001b[0m\n\u001b[0;31m    7mypython=\"PythonGuides\"\u001b[0m\n\u001b[0m            ^\u001b[0m\n\u001b[0;31mSyntaxError\u001b[0m\u001b[0;31m:\u001b[0m invalid syntax\n"
          ]
        }
      ]
    },
    {
      "cell_type": "code",
      "metadata": {
        "colab": {
          "base_uri": "https://localhost:8080/"
        },
        "id": "NREkRhHHYaws",
        "outputId": "9c59a64a-07b5-4b69-ecf3-65592232fd5c"
      },
      "source": [
        "rent = 1700\r\n",
        "rent = 2000\r\n",
        "print(rent)"
      ],
      "execution_count": null,
      "outputs": [
        {
          "output_type": "stream",
          "text": [
            "2000\n"
          ],
          "name": "stdout"
        }
      ]
    },
    {
      "cell_type": "code",
      "metadata": {
        "colab": {
          "base_uri": "https://localhost:8080/"
        },
        "id": "HXEXG_xwZDTT",
        "outputId": "74d1368a-3421-4ca2-9158-31c1cf31bfcc"
      },
      "source": [
        "rent = 1700\r\n",
        "rent = 2000\r\n",
        "rent = rent + 700\r\n",
        "print(rent)"
      ],
      "execution_count": null,
      "outputs": [
        {
          "output_type": "stream",
          "text": [
            "2700\n"
          ],
          "name": "stdout"
        }
      ]
    },
    {
      "cell_type": "code",
      "metadata": {
        "colab": {
          "base_uri": "https://localhost:8080/"
        },
        "id": "2IBjtuEEZVcT",
        "outputId": "18b22ae5-3557-4f52-a665-5d6a44b2d358"
      },
      "source": [
        "rent = 1700\r\n",
        "rent = 2000\r\n",
        "rent += 700\r\n",
        "print(rent)"
      ],
      "execution_count": null,
      "outputs": [
        {
          "output_type": "stream",
          "text": [
            "2700\n"
          ],
          "name": "stdout"
        }
      ]
    },
    {
      "cell_type": "code",
      "metadata": {
        "colab": {
          "base_uri": "https://localhost:8080/"
        },
        "id": "so7JjSWsZkGy",
        "outputId": "4d1d1b54-3bae-44b2-cf05-707d3bf3a4d3"
      },
      "source": [
        "print(3/2)"
      ],
      "execution_count": null,
      "outputs": [
        {
          "output_type": "stream",
          "text": [
            "1.5\n"
          ],
          "name": "stdout"
        }
      ]
    },
    {
      "cell_type": "code",
      "metadata": {
        "colab": {
          "base_uri": "https://localhost:8080/"
        },
        "id": "caX9JBcNZqO8",
        "outputId": "f965236f-990c-464c-bf01-b624878a49e7"
      },
      "source": [
        "type(3/2)"
      ],
      "execution_count": null,
      "outputs": [
        {
          "output_type": "execute_result",
          "data": {
            "text/plain": [
              "float"
            ]
          },
          "metadata": {
            "tags": []
          },
          "execution_count": 23
        }
      ]
    },
    {
      "cell_type": "code",
      "metadata": {
        "colab": {
          "base_uri": "https://localhost:8080/"
        },
        "id": "DT6cbp0raNnu",
        "outputId": "a73f19e1-1ba6-4880-d651-5ce6e0796efc"
      },
      "source": [
        "a = 3\r\n",
        "b = 2.5\r\n",
        "\r\n",
        "print(type(a))\r\n",
        "print(type(b))"
      ],
      "execution_count": null,
      "outputs": [
        {
          "output_type": "stream",
          "text": [
            "<class 'int'>\n",
            "<class 'float'>\n"
          ],
          "name": "stdout"
        }
      ]
    },
    {
      "cell_type": "code",
      "metadata": {
        "colab": {
          "base_uri": "https://localhost:8080/"
        },
        "id": "z6-JLOiuaYTc",
        "outputId": "9fcde349-544c-4bdb-c4f7-69c906c8ffab"
      },
      "source": [
        "a = float(3)\r\n",
        "b = int(28.9)\r\n",
        "print(a)\r\n",
        "print(b)"
      ],
      "execution_count": null,
      "outputs": [
        {
          "output_type": "stream",
          "text": [
            "3.0\n",
            "28\n"
          ],
          "name": "stdout"
        }
      ]
    },
    {
      "cell_type": "code",
      "metadata": {
        "colab": {
          "base_uri": "https://localhost:8080/"
        },
        "id": "Kqru0rLKax1r",
        "outputId": "9803d1b9-7e42-4e5a-b84f-8c0c72ed41b9"
      },
      "source": [
        "print(0.23 + 0.23 + 0.23 + 0.23 + 0.23 + 0.23\r\n",
        "       + 0.23 + 0.23 + 0.23 + 0.23 + 0.23 + 0.23\r\n",
        "       + 0.23 + 0.23 + 0.23 + 0.23 + 0.23 + 0.23\r\n",
        "       + 0.23 + 0.23 + 0.23 + 0.23 + 0.23 + 0.23\r\n",
        "       + 0.23 + 0.23 + 0.23 + 0.23+ 0.23 + 0.23 == 6.9)"
      ],
      "execution_count": null,
      "outputs": [
        {
          "output_type": "stream",
          "text": [
            "False\n"
          ],
          "name": "stdout"
        }
      ]
    },
    {
      "cell_type": "code",
      "metadata": {
        "id": "IPp39fA2a9tD"
      },
      "source": [
        "python_awsome = True\r\n",
        "documentation_bad = False"
      ],
      "execution_count": null,
      "outputs": []
    },
    {
      "cell_type": "code",
      "metadata": {
        "colab": {
          "base_uri": "https://localhost:8080/"
        },
        "id": "sA6oE2cvbfSd",
        "outputId": "cca04a66-e640-45df-812a-35e21758e269"
      },
      "source": [
        "a = 3>1\r\n",
        "print(a)"
      ],
      "execution_count": null,
      "outputs": [
        {
          "output_type": "stream",
          "text": [
            "True\n"
          ],
          "name": "stdout"
        }
      ]
    },
    {
      "cell_type": "code",
      "metadata": {
        "colab": {
          "base_uri": "https://localhost:8080/"
        },
        "id": "CYjBTJZkcA5X",
        "outputId": "8f08b8aa-517f-4aea-87af-322fcdc947c5"
      },
      "source": [
        "rent = 1200\r\n",
        "is_affordable = rent > 1000 and rent < 2000\r\n",
        "\r\n",
        "print(is_affordable)"
      ],
      "execution_count": null,
      "outputs": [
        {
          "output_type": "stream",
          "text": [
            "True\n"
          ],
          "name": "stdout"
        }
      ]
    },
    {
      "cell_type": "code",
      "metadata": {
        "colab": {
          "base_uri": "https://localhost:8080/"
        },
        "id": "NzGZvb_LcFoL",
        "outputId": "c9dff10f-5b77-41b1-fe4d-9b255efa7b8d"
      },
      "source": [
        "rent = 1200\r\n",
        "is_affordable = not(rent > 1000 and rent < 2000) #\"not\" just inverts bool value\r\n",
        "\r\n",
        "print(is_affordable)"
      ],
      "execution_count": null,
      "outputs": [
        {
          "output_type": "stream",
          "text": [
            "False\n"
          ],
          "name": "stdout"
        }
      ]
    },
    {
      "cell_type": "code",
      "metadata": {
        "colab": {
          "base_uri": "https://localhost:8080/"
        },
        "id": "N5YzRFkAcd5C",
        "outputId": "55486e4a-4bf9-41bb-8fce-fd5c5420f62a"
      },
      "source": [
        "print(\"Akshat\")\r\n",
        "print('Akshat')"
      ],
      "execution_count": null,
      "outputs": [
        {
          "output_type": "stream",
          "text": [
            "Akshat\n",
            "Akshat\n"
          ],
          "name": "stdout"
        }
      ]
    },
    {
      "cell_type": "code",
      "metadata": {
        "colab": {
          "base_uri": "https://localhost:8080/"
        },
        "id": "EHsfPRx-cnzp",
        "outputId": "0e958ca7-c557-46fb-f29b-f9c2268bae6e"
      },
      "source": [
        "motto = \"Learn | Code | Compete | Intern\" \r\n",
        "print(motto)"
      ],
      "execution_count": null,
      "outputs": [
        {
          "output_type": "stream",
          "text": [
            "Learn | Code | Compete | Intern\n"
          ],
          "name": "stdout"
        }
      ]
    },
    {
      "cell_type": "code",
      "metadata": {
        "colab": {
          "base_uri": "https://localhost:8080/"
        },
        "id": "Fi8X6zIPdNz3",
        "outputId": "b8edced3-767a-476a-99f7-27c4d7f3fae9"
      },
      "source": [
        "type(motto)"
      ],
      "execution_count": null,
      "outputs": [
        {
          "output_type": "execute_result",
          "data": {
            "text/plain": [
              "str"
            ]
          },
          "metadata": {
            "tags": []
          },
          "execution_count": 35
        }
      ]
    },
    {
      "cell_type": "code",
      "metadata": {
        "colab": {
          "base_uri": "https://localhost:8080/",
          "height": 128
        },
        "id": "_El17XmXdSHr",
        "outputId": "3e09a985-503a-41f0-b0a4-d2f8c6e5fcd9"
      },
      "source": [
        "dialogue = \"shiva said, \"you learn as you grow\"\""
      ],
      "execution_count": null,
      "outputs": [
        {
          "output_type": "error",
          "ename": "SyntaxError",
          "evalue": "ignored",
          "traceback": [
            "\u001b[0;36m  File \u001b[0;32m\"<ipython-input-36-2d8d4e434758>\"\u001b[0;36m, line \u001b[0;32m1\u001b[0m\n\u001b[0;31m    dialogue = \"shiva said, \"you learn as you grow\"\"\u001b[0m\n\u001b[0m                               ^\u001b[0m\n\u001b[0;31mSyntaxError\u001b[0m\u001b[0;31m:\u001b[0m invalid syntax\n"
          ]
        }
      ]
    },
    {
      "cell_type": "code",
      "metadata": {
        "colab": {
          "base_uri": "https://localhost:8080/"
        },
        "id": "7cJLCWDudbYn",
        "outputId": "a259354b-8213-49ab-922b-058a96446aed"
      },
      "source": [
        "dialogue = 'shiva said, \"you learn as you grow\"'\r\n",
        "print(dialogue)"
      ],
      "execution_count": null,
      "outputs": [
        {
          "output_type": "stream",
          "text": [
            "shiva said, \"you learn as you grow\"\n"
          ],
          "name": "stdout"
        }
      ]
    },
    {
      "cell_type": "code",
      "metadata": {
        "colab": {
          "base_uri": "https://localhost:8080/"
        },
        "id": "P-WjIaU_dj9W",
        "outputId": "8ae9240b-c677-495f-8ed3-cd1d6542fe5e"
      },
      "source": [
        "dialogue = '\"shiva you\\'re bag is red\"'\r\n",
        "print(dialogue)"
      ],
      "execution_count": null,
      "outputs": [
        {
          "output_type": "stream",
          "text": [
            "\"shiva you're bag is red\"\n"
          ],
          "name": "stdout"
        }
      ]
    },
    {
      "cell_type": "code",
      "metadata": {
        "colab": {
          "base_uri": "https://localhost:8080/"
        },
        "id": "mtNATUbcdry5",
        "outputId": "5240741d-d61c-42e8-9125-82fcd42b8cb7"
      },
      "source": [
        "print(\"hello\" + \"world\")\r\n",
        "\r\n",
        "print(\"hello\" + \" \" + \"world\")"
      ],
      "execution_count": null,
      "outputs": [
        {
          "output_type": "stream",
          "text": [
            "helloworld\n",
            "hello world\n"
          ],
          "name": "stdout"
        }
      ]
    },
    {
      "cell_type": "code",
      "metadata": {
        "colab": {
          "base_uri": "https://localhost:8080/"
        },
        "id": "59xpJjG_eaZh",
        "outputId": "8c19e5d9-a672-4082-8711-fa34d40086be"
      },
      "source": [
        "word_length = len(\"Akshat\")\r\n",
        "print(word_length)"
      ],
      "execution_count": null,
      "outputs": [
        {
          "output_type": "stream",
          "text": [
            "6\n"
          ],
          "name": "stdout"
        }
      ]
    },
    {
      "cell_type": "code",
      "metadata": {
        "colab": {
          "base_uri": "https://localhost:8080/"
        },
        "id": "Ynl-Jtrzfx8f",
        "outputId": "9a0986fa-50d4-4878-a83a-4d317e29fec4"
      },
      "source": [
        "print(type(75))\r\n",
        "print(type(75.0))\r\n",
        "print(type(\"75\"))\r\n",
        "print(type(True))"
      ],
      "execution_count": null,
      "outputs": [
        {
          "output_type": "stream",
          "text": [
            "<class 'int'>\n",
            "<class 'float'>\n",
            "<class 'str'>\n",
            "<class 'bool'>\n"
          ],
          "name": "stdout"
        }
      ]
    },
    {
      "cell_type": "code",
      "metadata": {
        "colab": {
          "base_uri": "https://localhost:8080/"
        },
        "id": "z2k37N-Ag1Bw",
        "outputId": "d20711e4-ee54-4598-ac42-0346bc7f9356"
      },
      "source": [
        "marks = 15\r\n",
        "subject = \"coding\"\r\n",
        "semester = \"first\"\r\n",
        "\r\n",
        "result = \"I scored \" + str(marks) + \" in \" + subject + \" during my \" + semester + \" semester.\"\r\n",
        "print(result)"
      ],
      "execution_count": null,
      "outputs": [
        {
          "output_type": "stream",
          "text": [
            "I scored 15 in coding during my first semester.\n"
          ],
          "name": "stdout"
        }
      ]
    },
    {
      "cell_type": "code",
      "metadata": {
        "colab": {
          "base_uri": "https://localhost:8080/"
        },
        "id": "I9sdE8BmhaGf",
        "outputId": "34761ca8-9f46-4c78-d84c-3ccc72630b26"
      },
      "source": [
        "marks = \"15\"\r\n",
        "print(type(marks))\r\n",
        "marks = float(marks)\r\n",
        "print(type(marks))"
      ],
      "execution_count": null,
      "outputs": [
        {
          "output_type": "stream",
          "text": [
            "<class 'str'>\n",
            "<class 'float'>\n"
          ],
          "name": "stdout"
        }
      ]
    },
    {
      "cell_type": "code",
      "metadata": {
        "id": "t_d-eHnChpZX"
      },
      "source": [
        "students = ['sam','pam','rocky','austin','steve','banner']"
      ],
      "execution_count": null,
      "outputs": []
    },
    {
      "cell_type": "code",
      "metadata": {
        "colab": {
          "base_uri": "https://localhost:8080/"
        },
        "id": "ZjULkvJClxiz",
        "outputId": "1ee4eecc-ad81-4659-ccc2-65b60d9ade7d"
      },
      "source": [
        " print(students[0])\r\n",
        " print(students[1])\r\n",
        " print(students[2])"
      ],
      "execution_count": null,
      "outputs": [
        {
          "output_type": "stream",
          "text": [
            "sam\n",
            "pam\n",
            "rocky\n"
          ],
          "name": "stdout"
        }
      ]
    },
    {
      "cell_type": "code",
      "metadata": {
        "colab": {
          "base_uri": "https://localhost:8080/"
        },
        "id": "LGFKACATmgd2",
        "outputId": "bec526a6-8573-4c8e-8051-05f57db17132"
      },
      "source": [
        " print(students[0])\r\n",
        " print(students[1])\r\n",
        " print(students[2])\r\n",
        " print(students[-1])"
      ],
      "execution_count": null,
      "outputs": [
        {
          "output_type": "stream",
          "text": [
            "sam\n",
            "pam\n",
            "rocky\n",
            "banner\n"
          ],
          "name": "stdout"
        }
      ]
    },
    {
      "cell_type": "code",
      "metadata": {
        "colab": {
          "base_uri": "https://localhost:8080/"
        },
        "id": "wut4LjQTrecW",
        "outputId": "8efd4535-92bf-490f-dbf2-54904fccd60e"
      },
      "source": [
        "students = ['sam', 'pam', 'rocky', 'austin', 'steve', 'banner', 'tony', 'bruce', \r\n",
        "            'henry', 'clark', 'diana']\r\n",
        "student = \"Barry\"\r\n",
        "\r\n",
        "# slice a particular range\r\n",
        "marvel = students[4:7]\r\n",
        "flash = student[1:3]\r\n",
        "\r\n",
        "print(marvel)\r\n",
        "print(flash)"
      ],
      "execution_count": null,
      "outputs": [
        {
          "output_type": "stream",
          "text": [
            "['steve', 'banner', 'tony']\n",
            "ar\n"
          ],
          "name": "stdout"
        }
      ]
    },
    {
      "cell_type": "code",
      "metadata": {
        "colab": {
          "base_uri": "https://localhost:8080/"
        },
        "id": "zx81Xo9crzUL",
        "outputId": "1949324c-cbd3-4150-adbd-9e89a24c7b6c"
      },
      "source": [
        "# slice from the end\r\n",
        "dc = students[7:]\r\n",
        "flash = student[1:]\r\n",
        "\r\n",
        "print(dc)\r\n",
        "print(flash)"
      ],
      "execution_count": null,
      "outputs": [
        {
          "output_type": "stream",
          "text": [
            "['bruce', 'henry', 'clark', 'diana']\n",
            "arry\n"
          ],
          "name": "stdout"
        }
      ]
    },
    {
      "cell_type": "code",
      "metadata": {
        "colab": {
          "base_uri": "https://localhost:8080/"
        },
        "id": "eTEdvo0wr_AA",
        "outputId": "999f6d2d-e562-418b-85a2-c9581fe301b1"
      },
      "source": [
        "# slice from the begining\r\n",
        "normal = students[:4]\r\n",
        "flash = student[:3]\r\n",
        "\r\n",
        "print(normal)\r\n",
        "print(flash)"
      ],
      "execution_count": null,
      "outputs": [
        {
          "output_type": "stream",
          "text": [
            "['sam', 'pam', 'rocky', 'austin']\n",
            "Bar\n"
          ],
          "name": "stdout"
        }
      ]
    },
    {
      "cell_type": "code",
      "metadata": {
        "colab": {
          "base_uri": "https://localhost:8080/"
        },
        "id": "ZTJMudRRsE7W",
        "outputId": "d5e89593-5f33-4ee8-e050-a389cf547a38"
      },
      "source": [
        "# length of the list and the string\r\n",
        "print(len(students))\r\n",
        "print(len(student))"
      ],
      "execution_count": null,
      "outputs": [
        {
          "output_type": "stream",
          "text": [
            "11\n",
            "5\n"
          ],
          "name": "stdout"
        }
      ]
    },
    {
      "cell_type": "code",
      "metadata": {
        "colab": {
          "base_uri": "https://localhost:8080/"
        },
        "id": "my_VNnhhsdz-",
        "outputId": "168fc2b4-e748-4ced-c10d-b5932c7b8d67"
      },
      "source": [
        "greeting = \"Hello there\"\r\n",
        "print('her' in greeting, 'her' not in greeting)"
      ],
      "execution_count": null,
      "outputs": [
        {
          "output_type": "stream",
          "text": [
            "True False\n"
          ],
          "name": "stdout"
        }
      ]
    },
    {
      "cell_type": "code",
      "metadata": {
        "colab": {
          "base_uri": "https://localhost:8080/"
        },
        "id": "PW3_sUs-uHcc",
        "outputId": "a68683a1-56f8-447d-da30-0080a9df2515"
      },
      "source": [
        " students = ['sam', 'pam', 'rocky', 'austin', 'steve', 'banner', 'tony', 'bruce', \r\n",
        "            'henry', 'clark', 'diana']\r\n",
        "\r\n",
        "students[2] = 'ben'\r\n",
        "print(students)"
      ],
      "execution_count": null,
      "outputs": [
        {
          "output_type": "stream",
          "text": [
            "['sam', 'pam', 'ben', 'austin', 'steve', 'banner', 'tony', 'bruce', 'henry', 'clark', 'diana']\n"
          ],
          "name": "stdout"
        }
      ]
    },
    {
      "cell_type": "code",
      "metadata": {
        "colab": {
          "base_uri": "https://localhost:8080/",
          "height": 195
        },
        "id": "aqjD55EOyp6s",
        "outputId": "b43dfef7-6be2-477e-d5ff-3bea404d0ab0"
      },
      "source": [
        "student = \"Barry\"\r\n",
        "student[1] = \"e\"\r\n",
        "print(student)"
      ],
      "execution_count": null,
      "outputs": [
        {
          "output_type": "error",
          "ename": "TypeError",
          "evalue": "ignored",
          "traceback": [
            "\u001b[0;31m---------------------------------------------------------------------------\u001b[0m",
            "\u001b[0;31mTypeError\u001b[0m                                 Traceback (most recent call last)",
            "\u001b[0;32m<ipython-input-12-45fd42fac3cd>\u001b[0m in \u001b[0;36m<module>\u001b[0;34m()\u001b[0m\n\u001b[1;32m      1\u001b[0m \u001b[0mstudent\u001b[0m \u001b[0;34m=\u001b[0m \u001b[0;34m\"Barry\"\u001b[0m\u001b[0;34m\u001b[0m\u001b[0;34m\u001b[0m\u001b[0m\n\u001b[0;32m----> 2\u001b[0;31m \u001b[0mstudent\u001b[0m\u001b[0;34m[\u001b[0m\u001b[0;36m1\u001b[0m\u001b[0;34m]\u001b[0m \u001b[0;34m=\u001b[0m \u001b[0;34m\"e\"\u001b[0m\u001b[0;34m\u001b[0m\u001b[0;34m\u001b[0m\u001b[0m\n\u001b[0m\u001b[1;32m      3\u001b[0m \u001b[0mprint\u001b[0m\u001b[0;34m(\u001b[0m\u001b[0mstudent\u001b[0m\u001b[0;34m)\u001b[0m\u001b[0;34m\u001b[0m\u001b[0;34m\u001b[0m\u001b[0m\n",
            "\u001b[0;31mTypeError\u001b[0m: 'str' object does not support item assignment"
          ]
        }
      ]
    },
    {
      "cell_type": "code",
      "metadata": {
        "colab": {
          "base_uri": "https://localhost:8080/"
        },
        "id": "JULptlHiyxR2",
        "outputId": "e1a67ea2-bbda-4015-f3cb-1cba45333f66"
      },
      "source": [
        "student = \"pam\"\r\n",
        "character = student\r\n",
        "print(character)\r\n",
        "character = \"peter\"\r\n",
        "print(character)\r\n",
        "print(student)"
      ],
      "execution_count": null,
      "outputs": [
        {
          "output_type": "stream",
          "text": [
            "pam\n",
            "peter\n",
            "pam\n"
          ],
          "name": "stdout"
        }
      ]
    },
    {
      "cell_type": "code",
      "metadata": {
        "colab": {
          "base_uri": "https://localhost:8080/"
        },
        "id": "mMnpoQzH00F0",
        "outputId": "71836a86-9015-4408-8dea-2b4c5032350a"
      },
      "source": [
        "students = ['sam', 'pam', 'rocky', 'austin', 'steve', 'banner', 'tony', 'bruce', \r\n",
        "            'henry', 'clark', 'diana']\r\n",
        "characters = students\r\n",
        "print(characters)\r\n",
        "characters[1]= \"peter\"\r\n",
        "print(characters)\r\n",
        "print(students)"
      ],
      "execution_count": null,
      "outputs": [
        {
          "output_type": "stream",
          "text": [
            "['sam', 'pam', 'rocky', 'austin', 'steve', 'banner', 'tony', 'bruce', 'henry', 'clark', 'diana']\n",
            "['sam', 'peter', 'rocky', 'austin', 'steve', 'banner', 'tony', 'bruce', 'henry', 'clark', 'diana']\n",
            "['sam', 'peter', 'rocky', 'austin', 'steve', 'banner', 'tony', 'bruce', 'henry', 'clark', 'diana']\n"
          ],
          "name": "stdout"
        }
      ]
    },
    {
      "cell_type": "code",
      "metadata": {
        "colab": {
          "base_uri": "https://localhost:8080/"
        },
        "id": "sucD2dKv02zp",
        "outputId": "a9a2a9ff-6864-4e6b-cf4e-c8bc5d643915"
      },
      "source": [
        "students = ['sam', 'pam', 'rocky', 'austin', 'steve', 'banner', 'tony', 'bruce', \r\n",
        "            'henry', 'clark', 'diana']\r\n",
        "\r\n",
        "student = \"barry\"\r\n",
        "\r\n",
        "print(max(students))\r\n",
        "print(max(student))"
      ],
      "execution_count": null,
      "outputs": [
        {
          "output_type": "stream",
          "text": [
            "tony\n",
            "y\n"
          ],
          "name": "stdout"
        }
      ]
    },
    {
      "cell_type": "code",
      "metadata": {
        "colab": {
          "base_uri": "https://localhost:8080/",
          "height": 162
        },
        "id": "li3qBs-r1I06",
        "outputId": "31351307-26fd-4f60-d70c-c1d4cddac800"
      },
      "source": [
        "max([2, 'two'])"
      ],
      "execution_count": null,
      "outputs": [
        {
          "output_type": "error",
          "ename": "TypeError",
          "evalue": "ignored",
          "traceback": [
            "\u001b[0;31m---------------------------------------------------------------------------\u001b[0m",
            "\u001b[0;31mTypeError\u001b[0m                                 Traceback (most recent call last)",
            "\u001b[0;32m<ipython-input-16-89bfacf40baf>\u001b[0m in \u001b[0;36m<module>\u001b[0;34m()\u001b[0m\n\u001b[0;32m----> 1\u001b[0;31m \u001b[0mmax\u001b[0m\u001b[0;34m(\u001b[0m\u001b[0;34m[\u001b[0m\u001b[0;36m2\u001b[0m\u001b[0;34m,\u001b[0m \u001b[0;34m'two'\u001b[0m\u001b[0;34m]\u001b[0m\u001b[0;34m)\u001b[0m\u001b[0;34m\u001b[0m\u001b[0;34m\u001b[0m\u001b[0m\n\u001b[0m",
            "\u001b[0;31mTypeError\u001b[0m: '>' not supported between instances of 'str' and 'int'"
          ]
        }
      ]
    },
    {
      "cell_type": "code",
      "metadata": {
        "colab": {
          "base_uri": "https://localhost:8080/"
        },
        "id": "Y0V9760O10JS",
        "outputId": "ca888d7f-a552-4485-d1f9-34df047e67a3"
      },
      "source": [
        "characters = sorted(students)\r\n",
        "print(characters)"
      ],
      "execution_count": null,
      "outputs": [
        {
          "output_type": "stream",
          "text": [
            "['austin', 'banner', 'bruce', 'clark', 'diana', 'henry', 'pam', 'rocky', 'sam', 'steve', 'tony']\n"
          ],
          "name": "stdout"
        }
      ]
    },
    {
      "cell_type": "code",
      "metadata": {
        "colab": {
          "base_uri": "https://localhost:8080/"
        },
        "id": "8jIJbJOo1576",
        "outputId": "35848c15-9d3b-4e5e-f597-a5096b7b1e78"
      },
      "source": [
        "characters = sorted(students)\r\n",
        "print(characters)\r\n",
        "print(students)"
      ],
      "execution_count": null,
      "outputs": [
        {
          "output_type": "stream",
          "text": [
            "['austin', 'banner', 'bruce', 'clark', 'diana', 'henry', 'pam', 'rocky', 'sam', 'steve', 'tony']\n",
            "['sam', 'pam', 'rocky', 'austin', 'steve', 'banner', 'tony', 'bruce', 'henry', 'clark', 'diana']\n"
          ],
          "name": "stdout"
        }
      ]
    },
    {
      "cell_type": "code",
      "metadata": {
        "colab": {
          "base_uri": "https://localhost:8080/"
        },
        "id": "4BDPksb-3aS0",
        "outputId": "e0d4e424-5255-4bcf-afb3-cb119e518e72"
      },
      "source": [
        "sep_str = \"\\n\".join([\"Jack\", \"O\", \"Lantern\"])\r\n",
        "print(sep_str)"
      ],
      "execution_count": null,
      "outputs": [
        {
          "output_type": "stream",
          "text": [
            "Jack\n",
            "O\n",
            "Lantern\n"
          ],
          "name": "stdout"
        }
      ]
    },
    {
      "cell_type": "code",
      "metadata": {
        "colab": {
          "base_uri": "https://localhost:8080/"
        },
        "id": "JucKKM3m5cwM",
        "outputId": "0d21fe40-ad7c-4fdc-e8f2-887e1e117e5d"
      },
      "source": [
        "name = \"-\".join([\"Jack\", \"O\", \"Lantern\"])\r\n",
        "print(name)"
      ],
      "execution_count": null,
      "outputs": [
        {
          "output_type": "stream",
          "text": [
            "Jack-O-Lantern\n"
          ],
          "name": "stdout"
        }
      ]
    },
    {
      "cell_type": "code",
      "metadata": {
        "colab": {
          "base_uri": "https://localhost:8080/"
        },
        "id": "z_cg2Xwb5i5i",
        "outputId": "fb64e4d5-a44e-4ae0-b17a-997602d2d732"
      },
      "source": [
        "letters = ['a', 'b', 'c', 'd']\r\n",
        "letters.append('e')\r\n",
        "print(letters)\r\n"
      ],
      "execution_count": null,
      "outputs": [
        {
          "output_type": "stream",
          "text": [
            "['a', 'b', 'c', 'd', 'e']\n"
          ],
          "name": "stdout"
        }
      ]
    },
    {
      "cell_type": "code",
      "metadata": {
        "colab": {
          "base_uri": "https://localhost:8080/"
        },
        "id": "3qx3p3j750aK",
        "outputId": "03471d5d-2a9e-4860-9d1c-47a3cba42668"
      },
      "source": [
        "location = 108.7774, 92.5556\r\n",
        "latitude, longtitude = location\r\n",
        "print(\"The coordinates are {} x {}\".format(latitude, longtitude))"
      ],
      "execution_count": null,
      "outputs": [
        {
          "output_type": "stream",
          "text": [
            "The coordinates are 108.7774 x 92.5556\n"
          ],
          "name": "stdout"
        }
      ]
    },
    {
      "cell_type": "code",
      "metadata": {
        "colab": {
          "base_uri": "https://localhost:8080/"
        },
        "id": "LGHRZcIGKsyh",
        "outputId": "16953aa8-7143-4c6f-d689-a881fb7f99d2"
      },
      "source": [
        "location = 108.7774, 92.5556\r\n",
        "\r\n",
        "print(\"The coordinates are {} x {}\".format(latitude, longtitude))"
      ],
      "execution_count": null,
      "outputs": [
        {
          "output_type": "stream",
          "text": [
            "The coordinates are 108.7774 x 92.5556\n"
          ],
          "name": "stdout"
        }
      ]
    },
    {
      "cell_type": "code",
      "metadata": {
        "id": "eQDNwJGbKvlf"
      },
      "source": [
        "elements = {\"hydrogen\": 1, \"helium\": 2, \"carbon\": 6}"
      ],
      "execution_count": null,
      "outputs": []
    },
    {
      "cell_type": "code",
      "metadata": {
        "colab": {
          "base_uri": "https://localhost:8080/"
        },
        "id": "PU6cHBgGK0ey",
        "outputId": "d95bf367-1946-42fa-bf87-af98efdf6f2a"
      },
      "source": [
        "print(elements[\"helium\"])  # print the value mapped to \"helium\"\r\n",
        "elements[\"lithium\"] = 3  # insert \"lithium\" with a value of 3 into the dictionary\r\n",
        "elements\r\n"
      ],
      "execution_count": null,
      "outputs": [
        {
          "output_type": "stream",
          "text": [
            "2\n"
          ],
          "name": "stdout"
        },
        {
          "output_type": "execute_result",
          "data": {
            "text/plain": [
              "{'carbon': 6, 'helium': 2, 'hydrogen': 1, 'lithium': 3}"
            ]
          },
          "metadata": {
            "tags": []
          },
          "execution_count": 27
        }
      ]
    },
    {
      "cell_type": "code",
      "metadata": {
        "colab": {
          "base_uri": "https://localhost:8080/"
        },
        "id": "67iucsFAMqXg",
        "outputId": "c3bd6ef6-07fc-4fd5-df53-b43f0a884a52"
      },
      "source": [
        "print(\"carbon\" in elements)\r\n",
        "print(elements.get(\"dilithium\"))"
      ],
      "execution_count": null,
      "outputs": [
        {
          "output_type": "stream",
          "text": [
            "True\n",
            "None\n"
          ],
          "name": "stdout"
        }
      ]
    },
    {
      "cell_type": "code",
      "metadata": {
        "colab": {
          "base_uri": "https://localhost:8080/"
        },
        "id": "dmhB6l71K4VL",
        "outputId": "abb7ac3b-03cb-4747-dc64-a2c688f8c46c"
      },
      "source": [
        "  n = elements.get(\"dilithium\")\r\n",
        "print(n is None)\r\n",
        "print(n is not None)"
      ],
      "execution_count": null,
      "outputs": [
        {
          "output_type": "stream",
          "text": [
            "True\n",
            "False\n"
          ],
          "name": "stdout"
        }
      ]
    },
    {
      "cell_type": "code",
      "metadata": {
        "colab": {
          "base_uri": "https://localhost:8080/"
        },
        "id": "fWo527cYNoAL",
        "outputId": "af566dae-5ad5-4738-c04f-44766dea9483"
      },
      "source": [
        "population = {\"New York\":17.8, \"Spain\":13.3, \"Dhaka\":13.0, \"Mumbai\":12.5}\r\n",
        "print(population)"
      ],
      "execution_count": null,
      "outputs": [
        {
          "output_type": "stream",
          "text": [
            "{'New York': 17.8, 'Spain': 13.3, 'Dhaka': 13.0, 'Mumbai': 12.5}\n"
          ],
          "name": "stdout"
        }
      ]
    },
    {
      "cell_type": "code",
      "metadata": {
        "id": "xAG6cGlENuqr"
      },
      "source": [
        "elements = {\"hydrogen\": {\"number\": 1,\r\n",
        "                         \"weight\": 1.00794,\r\n",
        "                         \"symbol\": \"H\"},\r\n",
        "              \"helium\": {\"number\": 2,\r\n",
        "                         \"weight\": 4.002602,\r\n",
        "                         \"symbol\": \"He\"}}"
      ],
      "execution_count": null,
      "outputs": []
    },
    {
      "cell_type": "code",
      "metadata": {
        "colab": {
          "base_uri": "https://localhost:8080/"
        },
        "id": "cZi3RVm9NzJs",
        "outputId": "24e3c48f-22d9-48ec-8569-ec7d5ae97334"
      },
      "source": [
        "helium = elements[\"helium\"]  # get the helium dictionary\r\n",
        "hydrogen_weight = elements[\"hydrogen\"][\"weight\"]  # get hydrogen's weight\r\n",
        "\r\n",
        "print(helium)\r\n",
        "print(hydrogen_weight)"
      ],
      "execution_count": null,
      "outputs": [
        {
          "output_type": "stream",
          "text": [
            "{'number': 2, 'weight': 4.002602, 'symbol': 'He'}\n",
            "1.00794\n"
          ],
          "name": "stdout"
        }
      ]
    },
    {
      "cell_type": "code",
      "metadata": {
        "colab": {
          "base_uri": "https://localhost:8080/"
        },
        "id": "StqmBKURN2cl",
        "outputId": "bcccdb2f-64ba-4545-cbce-1f313cb273e1"
      },
      "source": [
        "oxygen = {\"number\":8,\"weight\":15.999,\"symbol\":\"O\"}  # create a new oxygen dictionary \r\n",
        "elements[\"oxygen\"] = oxygen  # assign 'oxygen' as a key to the elements dictionary\r\n",
        "\r\n",
        "print('elements = ', elements)"
      ],
      "execution_count": null,
      "outputs": [
        {
          "output_type": "stream",
          "text": [
            "elements =  {'hydrogen': {'number': 1, 'weight': 1.00794, 'symbol': 'H'}, 'helium': {'number': 2, 'weight': 4.002602, 'symbol': 'He'}, 'oxygen': {'number': 8, 'weight': 15.999, 'symbol': 'O'}}\n"
          ],
          "name": "stdout"
        }
      ]
    },
    {
      "cell_type": "code",
      "metadata": {
        "id": "adNXvXqsN51Q"
      },
      "source": [
        "elements = {'hydrogen': {'number': 1, 'weight': 1.00794, 'symbol': 'H'},\r\n",
        "            'helium': {'number': 2, 'weight': 4.002602, 'symbol': 'He'}}\r\n",
        "\r\n",
        "# todo: Add an 'is_noble_gas' entry to the hydrogen and helium dictionaries\r\n",
        "# hint: helium is a noble gas, hydrogen isn't\r\n",
        "elements['helium']['is_noble_gas'] = True\r\n",
        "elements['hydrogen']['is_noble_gas'] = False"
      ],
      "execution_count": null,
      "outputs": []
    },
    {
      "cell_type": "code",
      "metadata": {
        "id": "JV5wrlvqkD9Y"
      },
      "source": [
        " "
      ],
      "execution_count": null,
      "outputs": []
    }
  ]
}